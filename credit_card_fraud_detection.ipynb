{
 "cells": [
  {
   "cell_type": "code",
   "execution_count": 1,
   "outputs": [],
   "source": [
    "import pandas as pd\n",
    "import numpy as np\n",
    "from sklearn.model_selection import StratifiedShuffleSplit\n",
    "from matplotlib import pyplot as plt\n",
    "import seaborn as sns\n",
    "from imblearn.under_sampling import NearMiss, RandomUnderSampler\n",
    "from imblearn.over_sampling import SMOTE, RandomOverSampler\n",
    "import usefull_funcs\n",
    "plt.style.use('fivethirtyeight')\n",
    "sns.set(font_scale= 1)\n",
    "\n",
    "import warnings\n",
    "warnings.filterwarnings(\"ignore\")"
   ],
   "metadata": {
    "collapsed": false,
    "pycharm": {
     "name": "#%%\n"
    }
   }
  },
  {
   "cell_type": "markdown",
   "source": [
    "# Functions"
   ],
   "metadata": {
    "collapsed": false
   }
  },
  {
   "cell_type": "code",
   "execution_count": 1,
   "outputs": [],
   "source": [],
   "metadata": {
    "collapsed": false,
    "pycharm": {
     "name": "#%%\n"
    }
   }
  },
  {
   "cell_type": "markdown",
   "source": [
    "# Preprocessing"
   ],
   "metadata": {
    "collapsed": false
   }
  },
  {
   "cell_type": "markdown",
   "source": [
    "### Resampling methods"
   ],
   "metadata": {
    "collapsed": false,
    "pycharm": {
     "name": "#%% md\n"
    }
   }
  },
  {
   "cell_type": "code",
   "execution_count": 2,
   "outputs": [],
   "source": [
    "def rand_undersample(X, y):\n",
    "    print(f'Value counts before resampling: \\n {y.value_counts()}')\n",
    "\n",
    "    minority_count = y.value_counts()[1]\n",
    "    rus = RandomUnderSampler(\n",
    "        random_state=42,\n",
    "        sampling_strategy = {0 : minority_count}\n",
    "    )\n",
    "\n",
    "    X_balanced, y_balanced = rus.fit_sample(X, y)\n",
    "\n",
    "    print(f'Value counts after resampling: \\n {y_balanced.value_counts()}')\n",
    "\n",
    "    return X_balanced, y_balanced\n",
    "\n",
    "# try different undersampling algs in imblearn\n",
    "def near_miss(X, y):\n",
    "    near_miss = NearMiss(sampling_strategy='majority')\n",
    "    X_nm, y_nm = near_miss(X, y)\n",
    "\n",
    "    return X_nm, y_nm\n",
    "\n",
    "\n",
    "def smote(X, y):\n",
    "    smote = SMOTE(sampling_strategy='minority', random_state=43)\n",
    "    X_smote, y_smote = smote.fit_resample(X, y)\n",
    "\n",
    "    return  X_smote, y_smote\n"
   ],
   "metadata": {
    "collapsed": false,
    "pycharm": {
     "name": "#%%\n"
    }
   }
  },
  {
   "cell_type": "markdown",
   "source": [
    "#Data colection\n",
    "Used just for the first time"
   ],
   "metadata": {
    "collapsed": false,
    "pycharm": {
     "name": "#%% md\n"
    }
   }
  },
  {
   "cell_type": "code",
   "execution_count": 3,
   "metadata": {
    "collapsed": true
   },
   "outputs": [],
   "source": [
    "# df = pd.read_csv('data/creditcard.csv')\n",
    "# df"
   ]
  },
  {
   "cell_type": "markdown",
   "source": [
    "# StratifiedShuffleSplit into train and test/y_true sets\n",
    "Used just for the first time"
   ],
   "metadata": {
    "collapsed": false,
    "pycharm": {
     "name": "#%% md\n"
    }
   }
  },
  {
   "cell_type": "code",
   "execution_count": 4,
   "outputs": [],
   "source": [
    "# label = 'Class'\n",
    "# df[label].value_counts()"
   ],
   "metadata": {
    "collapsed": false,
    "pycharm": {
     "name": "#%%\n"
    }
   }
  },
  {
   "cell_type": "code",
   "execution_count": 5,
   "outputs": [],
   "source": [
    "# sss = StratifiedShuffleSplit(n_splits=1, test_size=0.2, random_state=42)\n",
    "# for train_index, test_index in sss.split(df, df[label]):\n",
    "#     print(\"TRAIN:\", train_index, \"TEST:\", test_index)\n",
    "#     train_df = df.loc[train_index]\n",
    "#     test_df = df.loc[test_index]\n",
    "#\n",
    "# print(train_df.shape)\n",
    "# print(test_df.shape)"
   ],
   "metadata": {
    "collapsed": false,
    "pycharm": {
     "name": "#%%\n"
    }
   }
  },
  {
   "cell_type": "code",
   "execution_count": 6,
   "outputs": [],
   "source": [
    "# print(train_df.Class.value_counts())\n",
    "# print(test_df.Class.value_counts())"
   ],
   "metadata": {
    "collapsed": false,
    "pycharm": {
     "name": "#%%\n"
    }
   }
  },
  {
   "cell_type": "code",
   "execution_count": 7,
   "outputs": [],
   "source": [
    "# train_df.to_csv('data/train_df', index=False)\n",
    "# test_df.drop(label, 1).to_csv('data/test_df', index=False)\n",
    "# test_df[label].to_csv('data/test_df_y_true', index=False)\n"
   ],
   "metadata": {
    "collapsed": false,
    "pycharm": {
     "name": "#%%\n"
    }
   }
  },
  {
   "cell_type": "markdown",
   "source": [
    "# Missing data\n",
    "\n",
    "### Reading in trainting data"
   ],
   "metadata": {
    "collapsed": false,
    "pycharm": {
     "name": "#%% md\n",
     "is_executing": true
    }
   }
  },
  {
   "cell_type": "code",
   "execution_count": 8,
   "outputs": [
    {
     "data": {
      "text/plain": "       Time        V1        V2        V3        V4        V5        V6  \\\n0  161919.0  1.946747 -0.752526 -1.355130 -0.661630  1.502822  4.024933   \n1  124477.0  2.035149 -0.048880 -3.058693  0.247945  2.943487  3.298697   \n2   41191.0 -0.991920  0.603193  0.711976 -0.992425 -0.825838  1.956261   \n3  132624.0  2.285718 -1.500239 -0.747565 -1.668119 -1.394143 -0.350339   \n4   59359.0 -0.448747 -1.011440  0.115903 -3.454854  0.715771 -0.147490   \n\n         V7        V8        V9  ...       V21       V22       V23       V24  \\\n0 -1.479661  1.139880  1.406819  ...  0.076197  0.297537  0.307915  0.690980   \n1 -0.002192  0.674782  0.045826  ...  0.038628  0.228197  0.035542  0.707090   \n2 -2.212603 -5.037523  0.000772  ... -2.798352  0.109526 -0.436530 -0.932803   \n3 -1.427984  0.010010 -1.118447  ... -0.139670  0.077013  0.208310 -0.538236   \n4  0.504347 -0.113817 -0.044782  ... -0.243245 -0.173298 -0.006692 -1.362383   \n\n        V25       V26       V27       V28  Amount  Class  \n0 -0.350316 -0.388907  0.077641 -0.032248    7.32      0  \n1  0.512885 -0.471198  0.002520 -0.069002    2.99      0  \n2  0.826684  0.913773  0.038049  0.185340  175.10      0  \n3 -0.278032 -0.162068  0.018045 -0.063005    6.10      0  \n4 -0.292234 -0.144622 -0.032580 -0.064194   86.10      0  \n\n[5 rows x 31 columns]",
      "text/html": "<div>\n<style scoped>\n    .dataframe tbody tr th:only-of-type {\n        vertical-align: middle;\n    }\n\n    .dataframe tbody tr th {\n        vertical-align: top;\n    }\n\n    .dataframe thead th {\n        text-align: right;\n    }\n</style>\n<table border=\"1\" class=\"dataframe\">\n  <thead>\n    <tr style=\"text-align: right;\">\n      <th></th>\n      <th>Time</th>\n      <th>V1</th>\n      <th>V2</th>\n      <th>V3</th>\n      <th>V4</th>\n      <th>V5</th>\n      <th>V6</th>\n      <th>V7</th>\n      <th>V8</th>\n      <th>V9</th>\n      <th>...</th>\n      <th>V21</th>\n      <th>V22</th>\n      <th>V23</th>\n      <th>V24</th>\n      <th>V25</th>\n      <th>V26</th>\n      <th>V27</th>\n      <th>V28</th>\n      <th>Amount</th>\n      <th>Class</th>\n    </tr>\n  </thead>\n  <tbody>\n    <tr>\n      <th>0</th>\n      <td>161919.0</td>\n      <td>1.946747</td>\n      <td>-0.752526</td>\n      <td>-1.355130</td>\n      <td>-0.661630</td>\n      <td>1.502822</td>\n      <td>4.024933</td>\n      <td>-1.479661</td>\n      <td>1.139880</td>\n      <td>1.406819</td>\n      <td>...</td>\n      <td>0.076197</td>\n      <td>0.297537</td>\n      <td>0.307915</td>\n      <td>0.690980</td>\n      <td>-0.350316</td>\n      <td>-0.388907</td>\n      <td>0.077641</td>\n      <td>-0.032248</td>\n      <td>7.32</td>\n      <td>0</td>\n    </tr>\n    <tr>\n      <th>1</th>\n      <td>124477.0</td>\n      <td>2.035149</td>\n      <td>-0.048880</td>\n      <td>-3.058693</td>\n      <td>0.247945</td>\n      <td>2.943487</td>\n      <td>3.298697</td>\n      <td>-0.002192</td>\n      <td>0.674782</td>\n      <td>0.045826</td>\n      <td>...</td>\n      <td>0.038628</td>\n      <td>0.228197</td>\n      <td>0.035542</td>\n      <td>0.707090</td>\n      <td>0.512885</td>\n      <td>-0.471198</td>\n      <td>0.002520</td>\n      <td>-0.069002</td>\n      <td>2.99</td>\n      <td>0</td>\n    </tr>\n    <tr>\n      <th>2</th>\n      <td>41191.0</td>\n      <td>-0.991920</td>\n      <td>0.603193</td>\n      <td>0.711976</td>\n      <td>-0.992425</td>\n      <td>-0.825838</td>\n      <td>1.956261</td>\n      <td>-2.212603</td>\n      <td>-5.037523</td>\n      <td>0.000772</td>\n      <td>...</td>\n      <td>-2.798352</td>\n      <td>0.109526</td>\n      <td>-0.436530</td>\n      <td>-0.932803</td>\n      <td>0.826684</td>\n      <td>0.913773</td>\n      <td>0.038049</td>\n      <td>0.185340</td>\n      <td>175.10</td>\n      <td>0</td>\n    </tr>\n    <tr>\n      <th>3</th>\n      <td>132624.0</td>\n      <td>2.285718</td>\n      <td>-1.500239</td>\n      <td>-0.747565</td>\n      <td>-1.668119</td>\n      <td>-1.394143</td>\n      <td>-0.350339</td>\n      <td>-1.427984</td>\n      <td>0.010010</td>\n      <td>-1.118447</td>\n      <td>...</td>\n      <td>-0.139670</td>\n      <td>0.077013</td>\n      <td>0.208310</td>\n      <td>-0.538236</td>\n      <td>-0.278032</td>\n      <td>-0.162068</td>\n      <td>0.018045</td>\n      <td>-0.063005</td>\n      <td>6.10</td>\n      <td>0</td>\n    </tr>\n    <tr>\n      <th>4</th>\n      <td>59359.0</td>\n      <td>-0.448747</td>\n      <td>-1.011440</td>\n      <td>0.115903</td>\n      <td>-3.454854</td>\n      <td>0.715771</td>\n      <td>-0.147490</td>\n      <td>0.504347</td>\n      <td>-0.113817</td>\n      <td>-0.044782</td>\n      <td>...</td>\n      <td>-0.243245</td>\n      <td>-0.173298</td>\n      <td>-0.006692</td>\n      <td>-1.362383</td>\n      <td>-0.292234</td>\n      <td>-0.144622</td>\n      <td>-0.032580</td>\n      <td>-0.064194</td>\n      <td>86.10</td>\n      <td>0</td>\n    </tr>\n  </tbody>\n</table>\n<p>5 rows × 31 columns</p>\n</div>"
     },
     "execution_count": 8,
     "metadata": {},
     "output_type": "execute_result"
    }
   ],
   "source": [
    "df = pd.read_csv('data/train_df')\n",
    "df.head()"
   ],
   "metadata": {
    "collapsed": false,
    "pycharm": {
     "name": "#%%\n"
    }
   }
  },
  {
   "cell_type": "code",
   "execution_count": 9,
   "outputs": [
    {
     "name": "stdout",
     "output_type": "stream",
     "text": [
      "<class 'pandas.core.frame.DataFrame'>\n",
      "RangeIndex: 227845 entries, 0 to 227844\n",
      "Data columns (total 31 columns):\n",
      " #   Column  Non-Null Count   Dtype  \n",
      "---  ------  --------------   -----  \n",
      " 0   Time    227845 non-null  float64\n",
      " 1   V1      227845 non-null  float64\n",
      " 2   V2      227845 non-null  float64\n",
      " 3   V3      227845 non-null  float64\n",
      " 4   V4      227845 non-null  float64\n",
      " 5   V5      227845 non-null  float64\n",
      " 6   V6      227845 non-null  float64\n",
      " 7   V7      227845 non-null  float64\n",
      " 8   V8      227845 non-null  float64\n",
      " 9   V9      227845 non-null  float64\n",
      " 10  V10     227845 non-null  float64\n",
      " 11  V11     227845 non-null  float64\n",
      " 12  V12     227845 non-null  float64\n",
      " 13  V13     227845 non-null  float64\n",
      " 14  V14     227845 non-null  float64\n",
      " 15  V15     227845 non-null  float64\n",
      " 16  V16     227845 non-null  float64\n",
      " 17  V17     227845 non-null  float64\n",
      " 18  V18     227845 non-null  float64\n",
      " 19  V19     227845 non-null  float64\n",
      " 20  V20     227845 non-null  float64\n",
      " 21  V21     227845 non-null  float64\n",
      " 22  V22     227845 non-null  float64\n",
      " 23  V23     227845 non-null  float64\n",
      " 24  V24     227845 non-null  float64\n",
      " 25  V25     227845 non-null  float64\n",
      " 26  V26     227845 non-null  float64\n",
      " 27  V27     227845 non-null  float64\n",
      " 28  V28     227845 non-null  float64\n",
      " 29  Amount  227845 non-null  float64\n",
      " 30  Class   227845 non-null  int64  \n",
      "dtypes: float64(30), int64(1)\n",
      "memory usage: 53.9 MB\n"
     ]
    }
   ],
   "source": [
    "df.info()"
   ],
   "metadata": {
    "collapsed": false,
    "pycharm": {
     "name": "#%%\n"
    }
   }
  },
  {
   "cell_type": "code",
   "source": [
    "missing_data = df.isnull().sum()\n",
    "print('Amount of missing data: ')\n",
    "print(missing_data.sum())"
   ],
   "metadata": {
    "collapsed": false,
    "pycharm": {
     "name": "#%%\n"
    }
   },
   "execution_count": 10,
   "outputs": [
    {
     "name": "stdout",
     "output_type": "stream",
     "text": [
      "Amount of missing data: \n",
      "0\n"
     ]
    }
   ]
  },
  {
   "cell_type": "markdown",
   "source": [
    "# EDA\n",
    "todo clustering visualization"
   ],
   "metadata": {
    "collapsed": false
   }
  },
  {
   "cell_type": "code",
   "execution_count": 11,
   "outputs": [],
   "source": [
    "# usefull_funcs.hist_for_loop(df)"
   ],
   "metadata": {
    "collapsed": false,
    "pycharm": {
     "name": "#%%\n"
    }
   }
  },
  {
   "cell_type": "code",
   "execution_count": 12,
   "outputs": [],
   "source": [
    "# usefull_funcs.box_plot_for_loop(df)"
   ],
   "metadata": {
    "collapsed": false,
    "pycharm": {
     "name": "#%%\n"
    }
   }
  },
  {
   "cell_type": "code",
   "execution_count": 13,
   "outputs": [
    {
     "data": {
      "text/plain": "<AxesSubplot:>"
     },
     "execution_count": 13,
     "metadata": {},
     "output_type": "execute_result"
    },
    {
     "data": {
      "text/plain": "<Figure size 432x288 with 2 Axes>",
      "image/png": "[encoded data removed]"
     },
     "metadata": {},
     "output_type": "display_data"
    }
   ],
   "source": [
    "sns.heatmap(df[['Time', 'Amount', 'Class']].corr(), annot=True)"
   ],
   "metadata": {
    "collapsed": false,
    "pycharm": {
     "name": "#%%\n"
    }
   }
  },
  {
   "cell_type": "code",
   "execution_count": 14,
   "outputs": [
    {
     "data": {
      "text/plain": "count    227845.000000\nmean         88.176298\nstd         250.722602\nmin           0.000000\n25%           5.640000\n50%          22.000000\n75%          77.490000\nmax       25691.160000\nName: Amount, dtype: float64"
     },
     "execution_count": 14,
     "metadata": {},
     "output_type": "execute_result"
    }
   ],
   "source": [
    "amount_col = df['Amount']\n",
    "amount_col.describe()"
   ],
   "metadata": {
    "collapsed": false,
    "pycharm": {
     "name": "#%%\n"
    }
   }
  },
  {
   "cell_type": "code",
   "execution_count": 15,
   "outputs": [
    {
     "name": "stdout",
     "output_type": "stream",
     "text": [
      "-353.61\n",
      "436.74\n"
     ]
    }
   ],
   "source": [
    "lower_range, upper_range = usefull_funcs.outlier_treatment(\n",
    "    amount_col,\n",
    "    5\n",
    ")\n",
    "print(lower_range)\n",
    "print(upper_range)"
   ],
   "metadata": {
    "collapsed": false,
    "pycharm": {
     "name": "#%%\n"
    }
   }
  },
  {
   "cell_type": "code",
   "execution_count": 16,
   "outputs": [
    {
     "data": {
      "text/plain": "0    8909\n1      34\nName: Class, dtype: int64"
     },
     "execution_count": 16,
     "metadata": {},
     "output_type": "execute_result"
    }
   ],
   "source": [
    "outlier_amount_df = df[df['Amount'] > upper_range]\n",
    "outlier_amount_df['Class'].value_counts()"
   ],
   "metadata": {
    "collapsed": false,
    "pycharm": {
     "name": "#%%\n"
    }
   }
  },
  {
   "cell_type": "code",
   "execution_count": 17,
   "outputs": [
    {
     "data": {
      "text/plain": "            Time         V1        V2         V3        V4         V5  \\\n169316   57027.0  -2.335655  2.225380  -3.379450  2.178538  -3.568264   \n223648   87202.0  -0.419820 -1.155978  -2.092516  2.786750   0.736297   \n36700    60353.0  -3.975216  0.581573  -1.880372  4.319241  -3.024330   \n89147    41227.0  -9.001351  6.613284 -12.423635  7.519929 -10.266255   \n15381   132086.0  -0.361428  1.133472  -2.971360 -0.283073   0.371452   \n47446    84204.0  -1.927453  1.827621  -7.019495  5.348303  -2.739188   \n143273   67571.0  -0.758469 -0.045410  -0.168438 -1.313275  -1.901763   \n76557    94952.0   0.842025 -0.365518  -2.464063  4.820886   0.775505   \n153683  140308.0  -4.861747 -2.722660  -4.656248  2.502005  -2.008346   \n105812   92102.0  -1.662937  3.253892  -7.040485  2.266456  -4.177649   \n136131  166831.0  -2.027135 -1.131890  -1.135194  1.086963  -0.010547   \n184648   42988.0  -4.423508  1.648048  -6.934388  4.894601  -5.078131   \n206861  144808.0  -2.405207  2.943823  -7.616654  3.533374  -5.417494   \n30114    32745.0  -2.179135  0.020218  -2.182733  2.572046  -3.663733   \n92853    64785.0  -8.744415 -3.420468  -4.850575  6.606846  -2.800546   \n217527  129095.0  -1.836940 -1.646764  -3.381168  0.473354   0.074243   \n42436   139951.0  -2.921944 -0.228062  -5.877289  2.201884  -1.935440   \n119018  131024.0   0.469750 -1.237555  -1.767341  4.833490  -0.268715   \n207531  138942.0  -2.356348  1.746360  -6.374624  1.772205  -3.439294   \n97353    28242.0  -2.787248 -0.071340  -1.505288  3.361777  -3.357422   \n209038   17838.0  -5.187878  6.967709 -13.510931  8.617895 -11.214422   \n3972     39729.0  -0.964567 -1.643541  -0.187727  1.158253  -2.458336   \n179024   70536.0  -2.271755 -0.457655  -2.589055  2.230778  -4.278983   \n136141   87883.0  -1.360293 -0.458069  -0.700404  2.737229  -1.005106   \n166670  134769.0  -0.967767  2.098019  -5.222929  6.514573  -4.187674   \n189107  147501.0  -1.611877 -0.408410  -3.829762  6.249462  -3.360922   \n198810  154309.0  -0.082983 -3.935919  -2.616709  0.163310  -1.400952   \n14559    18088.0 -12.224021  3.854150 -12.466766  9.648311  -2.726961   \n157702  133184.0  -1.212682 -2.484824  -6.397186  3.670562  -0.863375   \n216265   65385.0  -2.923827  1.524837  -3.018758  3.289291  -5.755542   \n53860    59011.0  -2.326922 -3.348439  -3.513408  3.175060  -2.815137   \n168977   62467.0  -5.344665 -0.285760  -3.835616  5.337048  -7.609909   \n29760   154278.0  -1.600211 -3.488130  -6.459303  3.246816  -1.614608   \n172419  122608.0  -2.003460 -7.159042  -4.050976  1.309580  -2.058102   \n\n              V6         V7        V8        V9  ...       V21       V22  \\\n169316  0.316814  -1.734948  1.449139 -1.980033  ...  0.785540  0.297412   \n223648 -0.167292   1.600027 -0.117427 -0.796954  ...  0.480640  0.533517   \n36700   1.240793  -1.909559  0.660718 -2.752611  ...  0.578984  1.397311   \n89147  -2.113208  -9.984287  5.541941 -7.383705  ...  1.775891 -1.224758   \n15381  -0.574680   4.031513 -0.934398 -0.768255  ...  0.110815  0.563861   \n47446  -2.107219  -5.015848  1.205868 -4.382713  ...  1.376938 -0.792017   \n143273  0.739433   3.071892 -0.483422  0.618203  ...  0.042619  0.397224   \n76557  -0.614785   1.368024 -0.526262 -0.121356  ... -0.110622 -1.257800   \n153683  0.615422  -3.485680  1.878856 -1.116268  ...  1.138876  1.033664   \n105812 -0.746925  -0.248337  1.091157 -0.307137  ...  0.450381  0.521162   \n136131  0.423797   3.790880 -1.155595 -0.063434  ... -0.315105  0.575520   \n184648  0.010849  -3.409096  1.409291 -3.260672  ...  0.698359  0.487478   \n206861 -0.112632  -1.329372  1.709417 -2.322716  ...  0.652683  0.414132   \n30114   0.081568   0.268049  0.660437 -2.374027  ...  1.026421  0.299614   \n92853   0.105512  -3.269801  0.940378 -2.558691  ...  0.102913  0.311626   \n217527 -0.446751   3.791907 -1.351045  0.095186  ...  0.010663  1.786681   \n42436   0.631141  -1.245106  1.511348 -1.899987  ...  1.441622  0.895528   \n119018 -0.512760   1.140149 -0.341273 -1.046351  ...  0.303905 -0.647075   \n207531  1.457811  -0.362577  1.443791 -1.927359  ...  0.857942  0.621203   \n97353   0.565835   0.303653  0.966914 -2.245882  ...  0.882940 -0.246202   \n209038  0.672248  -9.462533  5.328704 -4.897006  ...  2.086083  0.760190   \n3972    0.852222   2.785163 -0.303609  0.940006  ...  0.447180  0.536204   \n179024  0.388610   0.102485  0.813128 -1.092921  ...  1.096342  0.658399   \n136141  2.891399   5.802537 -1.933197 -1.017717  ... -0.936990 -0.053812   \n166670  2.114178   0.948701 -2.448427 -3.203666  ... -0.843268  0.796739   \n189107  1.147964   1.858425  0.474858 -3.838399  ...  1.245582  0.616383   \n198810 -0.809419   1.501580 -0.471000  1.519743  ...  0.702672 -0.182305   \n14559  -4.445610 -21.922811  0.320792 -4.433162  ... -1.159830 -1.504119   \n157702 -1.855855   1.017732 -0.544704 -1.703378  ...  1.396872  0.092073   \n216265  2.218276  -0.509995 -3.569444 -1.016592  ... -0.511657 -0.122724   \n53860  -0.203363  -0.892144  0.333226 -0.802005  ...  1.226648 -0.695902   \n168977  3.874668   1.289630  0.201742 -3.003532  ...  0.276011  1.342045   \n29760  -1.260375   0.288223 -0.048964 -0.734975  ...  1.191175 -0.967141   \n172419 -0.098621   2.880083 -0.727484  1.460381  ...  1.244287 -1.015232   \n\n              V23       V24       V25       V26       V27       V28   Amount  \\\n169316   0.308536 -0.598416 -0.121850 -0.491018  0.701606  0.206966   444.17   \n223648   1.284645  0.516131 -0.602941 -0.305024 -0.021363  0.129096   451.27   \n36700    1.045322 -0.304000  0.005295  0.235435  0.962015 -0.673557   454.82   \n89147    0.082594  0.452089  0.463827 -0.296928  0.526506 -0.450890   459.07   \n15381   -0.408436 -0.880079  1.408392 -0.137402 -0.001250 -0.182751   480.72   \n47446   -0.771414 -0.379574  0.718717  1.111151  1.277707  0.819081   512.25   \n143273   0.072229 -0.242276  0.560916 -0.540955  0.150606 -0.117140   549.06   \n76557   -0.324418 -0.420020 -0.219501 -0.268873 -0.144582  0.104464   571.48   \n153683  -0.806199 -1.511046 -0.191731  0.080999  1.215152 -0.923142   592.90   \n105812   0.308325 -0.318012 -1.255362 -0.691963  0.264878 -0.130445   600.73   \n136131   0.490842  0.756502 -0.142685 -0.602777  0.508712 -0.091646   634.30   \n184648   1.228698 -0.535217  0.388278 -0.009466  2.300164  0.081231   648.00   \n206861   0.023869 -0.260616  0.405316  0.029107  0.519807 -0.469537   667.55   \n30114    1.656800  0.328433  0.106457  0.691775  0.196779  0.241085   717.15   \n92853   -4.129195  0.034639 -1.133631  0.272265  1.841307 -1.796363   720.38   \n217527  -0.151178 -0.582098 -0.956062 -0.334369  0.715600  0.370450   720.80   \n42436    1.385511 -2.028024  0.509131  0.172643  0.726781  0.234514   723.21   \n119018  -0.373014  0.260801 -0.496566 -0.245973 -0.117858  0.144774   723.21   \n207531   0.964817 -0.619437 -1.732613  0.108361  1.130828  0.415703   727.91   \n97353    1.752227  0.219925  0.156282 -0.265894  0.220694  0.256077   730.86   \n209038   0.716806 -0.646743 -1.617043  0.172347  0.626647 -0.169726   766.36   \n3972     1.634061  0.203839  0.218749 -0.221886 -0.308555 -0.164500   776.83   \n179024   1.711676  0.333540  0.538591 -0.193529  0.258194  0.247269   824.83   \n136141   0.580106  0.216927  0.151643 -0.332115 -0.469800 -1.495006   829.41   \n166670   1.314312 -0.352887 -1.770706  0.098133  0.956769  0.162777   925.31   \n189107   2.251439 -0.066096  0.538710  0.541325 -0.136243 -0.009852   996.27   \n198810  -0.921017  0.111635 -0.071622 -1.125881 -0.170947  0.126221  1096.99   \n14559  -19.254328  0.544867 -4.781606 -0.007772  3.052358 -0.775036  1218.89   \n157702  -1.492882 -0.204227  0.532511 -0.293871  0.212663  0.431095  1335.00   \n216265  -4.288639  0.563797 -0.949451 -0.204532  1.510206 -0.324706  1354.25   \n53860   -1.478490 -0.061553  0.236155  0.531911  0.302324  0.536375  1389.56   \n168977  -1.016579 -0.071361 -0.335869  0.441044  1.520613 -1.115937  1402.16   \n29760   -1.463421 -0.624231 -0.176462  0.400348  0.152947  0.477775  1504.93   \n172419  -1.800985  0.657586 -0.435617 -0.894509 -0.397557  0.314262  2125.87   \n\n        Class  \n169316      1  \n223648      1  \n36700       1  \n89147       1  \n15381       1  \n47446       1  \n143273      1  \n76557       1  \n153683      1  \n105812      1  \n136131      1  \n184648      1  \n206861      1  \n30114       1  \n92853       1  \n217527      1  \n42436       1  \n119018      1  \n207531      1  \n97353       1  \n209038      1  \n3972        1  \n179024      1  \n136141      1  \n166670      1  \n189107      1  \n198810      1  \n14559       1  \n157702      1  \n216265      1  \n53860       1  \n168977      1  \n29760       1  \n172419      1  \n\n[34 rows x 31 columns]",
      "text/html": "<div>\n<style scoped>\n    .dataframe tbody tr th:only-of-type {\n        vertical-align: middle;\n    }\n\n    .dataframe tbody tr th {\n        vertical-align: top;\n    }\n\n    .dataframe thead th {\n        text-align: right;\n    }\n</style>\n<table border=\"1\" class=\"dataframe\">\n  <thead>\n    <tr style=\"text-align: right;\">\n      <th></th>\n      <th>Time</th>\n      <th>V1</th>\n      <th>V2</th>\n      <th>V3</th>\n      <th>V4</th>\n      <th>V5</th>\n      <th>V6</th>\n      <th>V7</th>\n      <th>V8</th>\n      <th>V9</th>\n      <th>...</th>\n      <th>V21</th>\n      <th>V22</th>\n      <th>V23</th>\n      <th>V24</th>\n      <th>V25</th>\n      <th>V26</th>\n      <th>V27</th>\n      <th>V28</th>\n      <th>Amount</th>\n      <th>Class</th>\n    </tr>\n  </thead>\n  <tbody>\n    <tr>\n      <th>169316</th>\n      <td>57027.0</td>\n      <td>-2.335655</td>\n      <td>2.225380</td>\n      <td>-3.379450</td>\n      <td>2.178538</td>\n      <td>-3.568264</td>\n      <td>0.316814</td>\n      <td>-1.734948</td>\n      <td>1.449139</td>\n      <td>-1.980033</td>\n      <td>...</td>\n      <td>0.785540</td>\n      <td>0.297412</td>\n      <td>0.308536</td>\n      <td>-0.598416</td>\n      <td>-0.121850</td>\n      <td>-0.491018</td>\n      <td>0.701606</td>\n      <td>0.206966</td>\n      <td>444.17</td>\n      <td>1</td>\n    </tr>\n    <tr>\n      <th>223648</th>\n      <td>87202.0</td>\n      <td>-0.419820</td>\n      <td>-1.155978</td>\n      <td>-2.092516</td>\n      <td>2.786750</td>\n      <td>0.736297</td>\n      <td>-0.167292</td>\n      <td>1.600027</td>\n      <td>-0.117427</td>\n      <td>-0.796954</td>\n      <td>...</td>\n      <td>0.480640</td>\n      <td>0.533517</td>\n      <td>1.284645</td>\n      <td>0.516131</td>\n      <td>-0.602941</td>\n      <td>-0.305024</td>\n      <td>-0.021363</td>\n      <td>0.129096</td>\n      <td>451.27</td>\n      <td>1</td>\n    </tr>\n    <tr>\n      <th>36700</th>\n      <td>60353.0</td>\n      <td>-3.975216</td>\n      <td>0.581573</td>\n      <td>-1.880372</td>\n      <td>4.319241</td>\n      <td>-3.024330</td>\n      <td>1.240793</td>\n      <td>-1.909559</td>\n      <td>0.660718</td>\n      <td>-2.752611</td>\n      <td>...</td>\n      <td>0.578984</td>\n      <td>1.397311</td>\n      <td>1.045322</td>\n      <td>-0.304000</td>\n      <td>0.005295</td>\n      <td>0.235435</td>\n      <td>0.962015</td>\n      <td>-0.673557</td>\n      <td>454.82</td>\n      <td>1</td>\n    </tr>\n    <tr>\n      <th>89147</th>\n      <td>41227.0</td>\n      <td>-9.001351</td>\n      <td>6.613284</td>\n      <td>-12.423635</td>\n      <td>7.519929</td>\n      <td>-10.266255</td>\n      <td>-2.113208</td>\n      <td>-9.984287</td>\n      <td>5.541941</td>\n      <td>-7.383705</td>\n      <td>...</td>\n      <td>1.775891</td>\n      <td>-1.224758</td>\n      <td>0.082594</td>\n      <td>0.452089</td>\n      <td>0.463827</td>\n      <td>-0.296928</td>\n      <td>0.526506</td>\n      <td>-0.450890</td>\n      <td>459.07</td>\n      <td>1</td>\n    </tr>\n    <tr>\n      <th>15381</th>\n      <td>132086.0</td>\n      <td>-0.361428</td>\n      <td>1.133472</td>\n      <td>-2.971360</td>\n      <td>-0.283073</td>\n      <td>0.371452</td>\n      <td>-0.574680</td>\n      <td>4.031513</td>\n      <td>-0.934398</td>\n      <td>-0.768255</td>\n      <td>...</td>\n      <td>0.110815</td>\n      <td>0.563861</td>\n      <td>-0.408436</td>\n      <td>-0.880079</td>\n      <td>1.408392</td>\n      <td>-0.137402</td>\n      <td>-0.001250</td>\n      <td>-0.182751</td>\n      <td>480.72</td>\n      <td>1</td>\n    </tr>\n    <tr>\n      <th>47446</th>\n      <td>84204.0</td>\n      <td>-1.927453</td>\n      <td>1.827621</td>\n      <td>-7.019495</td>\n      <td>5.348303</td>\n      <td>-2.739188</td>\n      <td>-2.107219</td>\n      <td>-5.015848</td>\n      <td>1.205868</td>\n      <td>-4.382713</td>\n      <td>...</td>\n      <td>1.376938</td>\n      <td>-0.792017</td>\n      <td>-0.771414</td>\n      <td>-0.379574</td>\n      <td>0.718717</td>\n      <td>1.111151</td>\n      <td>1.277707</td>\n      <td>0.819081</td>\n      <td>512.25</td>\n      <td>1</td>\n    </tr>\n    <tr>\n      <th>143273</th>\n      <td>67571.0</td>\n      <td>-0.758469</td>\n      <td>-0.045410</td>\n      <td>-0.168438</td>\n      <td>-1.313275</td>\n      <td>-1.901763</td>\n      <td>0.739433</td>\n      <td>3.071892</td>\n      <td>-0.483422</td>\n      <td>0.618203</td>\n      <td>...</td>\n      <td>0.042619</td>\n      <td>0.397224</td>\n      <td>0.072229</td>\n      <td>-0.242276</td>\n      <td>0.560916</td>\n      <td>-0.540955</td>\n      <td>0.150606</td>\n      <td>-0.117140</td>\n      <td>549.06</td>\n      <td>1</td>\n    </tr>\n    <tr>\n      <th>76557</th>\n      <td>94952.0</td>\n      <td>0.842025</td>\n      <td>-0.365518</td>\n      <td>-2.464063</td>\n      <td>4.820886</td>\n      <td>0.775505</td>\n      <td>-0.614785</td>\n      <td>1.368024</td>\n      <td>-0.526262</td>\n      <td>-0.121356</td>\n      <td>...</td>\n      <td>-0.110622</td>\n      <td>-1.257800</td>\n      <td>-0.324418</td>\n      <td>-0.420020</td>\n      <td>-0.219501</td>\n      <td>-0.268873</td>\n      <td>-0.144582</td>\n      <td>0.104464</td>\n      <td>571.48</td>\n      <td>1</td>\n    </tr>\n    <tr>\n      <th>153683</th>\n      <td>140308.0</td>\n      <td>-4.861747</td>\n      <td>-2.722660</td>\n      <td>-4.656248</td>\n      <td>2.502005</td>\n      <td>-2.008346</td>\n      <td>0.615422</td>\n      <td>-3.485680</td>\n      <td>1.878856</td>\n      <td>-1.116268</td>\n      <td>...</td>\n      <td>1.138876</td>\n      <td>1.033664</td>\n      <td>-0.806199</td>\n      <td>-1.511046</td>\n      <td>-0.191731</td>\n      <td>0.080999</td>\n      <td>1.215152</td>\n      <td>-0.923142</td>\n      <td>592.90</td>\n      <td>1</td>\n    </tr>\n    <tr>\n      <th>105812</th>\n      <td>92102.0</td>\n      <td>-1.662937</td>\n      <td>3.253892</td>\n      <td>-7.040485</td>\n      <td>2.266456</td>\n      <td>-4.177649</td>\n      <td>-0.746925</td>\n      <td>-0.248337</td>\n      <td>1.091157</td>\n      <td>-0.307137</td>\n      <td>...</td>\n      <td>0.450381</td>\n      <td>0.521162</td>\n      <td>0.308325</td>\n      <td>-0.318012</td>\n      <td>-1.255362</td>\n      <td>-0.691963</td>\n      <td>0.264878</td>\n      <td>-0.130445</td>\n      <td>600.73</td>\n      <td>1</td>\n    </tr>\n    <tr>\n      <th>136131</th>\n      <td>166831.0</td>\n      <td>-2.027135</td>\n      <td>-1.131890</td>\n      <td>-1.135194</td>\n      <td>1.086963</td>\n      <td>-0.010547</td>\n      <td>0.423797</td>\n      <td>3.790880</td>\n      <td>-1.155595</td>\n      <td>-0.063434</td>\n      <td>...</td>\n      <td>-0.315105</td>\n      <td>0.575520</td>\n      <td>0.490842</td>\n      <td>0.756502</td>\n      <td>-0.142685</td>\n      <td>-0.602777</td>\n      <td>0.508712</td>\n      <td>-0.091646</td>\n      <td>634.30</td>\n      <td>1</td>\n    </tr>\n    <tr>\n      <th>184648</th>\n      <td>42988.0</td>\n      <td>-4.423508</td>\n      <td>1.648048</td>\n      <td>-6.934388</td>\n      <td>4.894601</td>\n      <td>-5.078131</td>\n      <td>0.010849</td>\n      <td>-3.409096</td>\n      <td>1.409291</td>\n      <td>-3.260672</td>\n      <td>...</td>\n      <td>0.698359</td>\n      <td>0.487478</td>\n      <td>1.228698</td>\n      <td>-0.535217</td>\n      <td>0.388278</td>\n      <td>-0.009466</td>\n      <td>2.300164</td>\n      <td>0.081231</td>\n      <td>648.00</td>\n      <td>1</td>\n    </tr>\n    <tr>\n      <th>206861</th>\n      <td>144808.0</td>\n      <td>-2.405207</td>\n      <td>2.943823</td>\n      <td>-7.616654</td>\n      <td>3.533374</td>\n      <td>-5.417494</td>\n      <td>-0.112632</td>\n      <td>-1.329372</td>\n      <td>1.709417</td>\n      <td>-2.322716</td>\n      <td>...</td>\n      <td>0.652683</td>\n      <td>0.414132</td>\n      <td>0.023869</td>\n      <td>-0.260616</td>\n      <td>0.405316</td>\n      <td>0.029107</td>\n      <td>0.519807</td>\n      <td>-0.469537</td>\n      <td>667.55</td>\n      <td>1</td>\n    </tr>\n    <tr>\n      <th>30114</th>\n      <td>32745.0</td>\n      <td>-2.179135</td>\n      <td>0.020218</td>\n      <td>-2.182733</td>\n      <td>2.572046</td>\n      <td>-3.663733</td>\n      <td>0.081568</td>\n      <td>0.268049</td>\n      <td>0.660437</td>\n      <td>-2.374027</td>\n      <td>...</td>\n      <td>1.026421</td>\n      <td>0.299614</td>\n      <td>1.656800</td>\n      <td>0.328433</td>\n      <td>0.106457</td>\n      <td>0.691775</td>\n      <td>0.196779</td>\n      <td>0.241085</td>\n      <td>717.15</td>\n      <td>1</td>\n    </tr>\n    <tr>\n      <th>92853</th>\n      <td>64785.0</td>\n      <td>-8.744415</td>\n      <td>-3.420468</td>\n      <td>-4.850575</td>\n      <td>6.606846</td>\n      <td>-2.800546</td>\n      <td>0.105512</td>\n      <td>-3.269801</td>\n      <td>0.940378</td>\n      <td>-2.558691</td>\n      <td>...</td>\n      <td>0.102913</td>\n      <td>0.311626</td>\n      <td>-4.129195</td>\n      <td>0.034639</td>\n      <td>-1.133631</td>\n      <td>0.272265</td>\n      <td>1.841307</td>\n      <td>-1.796363</td>\n      <td>720.38</td>\n      <td>1</td>\n    </tr>\n    <tr>\n      <th>217527</th>\n      <td>129095.0</td>\n      <td>-1.836940</td>\n      <td>-1.646764</td>\n      <td>-3.381168</td>\n      <td>0.473354</td>\n      <td>0.074243</td>\n      <td>-0.446751</td>\n      <td>3.791907</td>\n      <td>-1.351045</td>\n      <td>0.095186</td>\n      <td>...</td>\n      <td>0.010663</td>\n      <td>1.786681</td>\n      <td>-0.151178</td>\n      <td>-0.582098</td>\n      <td>-0.956062</td>\n      <td>-0.334369</td>\n      <td>0.715600</td>\n      <td>0.370450</td>\n      <td>720.80</td>\n      <td>1</td>\n    </tr>\n    <tr>\n      <th>42436</th>\n      <td>139951.0</td>\n      <td>-2.921944</td>\n      <td>-0.228062</td>\n      <td>-5.877289</td>\n      <td>2.201884</td>\n      <td>-1.935440</td>\n      <td>0.631141</td>\n      <td>-1.245106</td>\n      <td>1.511348</td>\n      <td>-1.899987</td>\n      <td>...</td>\n      <td>1.441622</td>\n      <td>0.895528</td>\n      <td>1.385511</td>\n      <td>-2.028024</td>\n      <td>0.509131</td>\n      <td>0.172643</td>\n      <td>0.726781</td>\n      <td>0.234514</td>\n      <td>723.21</td>\n      <td>1</td>\n    </tr>\n    <tr>\n      <th>119018</th>\n      <td>131024.0</td>\n      <td>0.469750</td>\n      <td>-1.237555</td>\n      <td>-1.767341</td>\n      <td>4.833490</td>\n      <td>-0.268715</td>\n      <td>-0.512760</td>\n      <td>1.140149</td>\n      <td>-0.341273</td>\n      <td>-1.046351</td>\n      <td>...</td>\n      <td>0.303905</td>\n      <td>-0.647075</td>\n      <td>-0.373014</td>\n      <td>0.260801</td>\n      <td>-0.496566</td>\n      <td>-0.245973</td>\n      <td>-0.117858</td>\n      <td>0.144774</td>\n      <td>723.21</td>\n      <td>1</td>\n    </tr>\n    <tr>\n      <th>207531</th>\n      <td>138942.0</td>\n      <td>-2.356348</td>\n      <td>1.746360</td>\n      <td>-6.374624</td>\n      <td>1.772205</td>\n      <td>-3.439294</td>\n      <td>1.457811</td>\n      <td>-0.362577</td>\n      <td>1.443791</td>\n      <td>-1.927359</td>\n      <td>...</td>\n      <td>0.857942</td>\n      <td>0.621203</td>\n      <td>0.964817</td>\n      <td>-0.619437</td>\n      <td>-1.732613</td>\n      <td>0.108361</td>\n      <td>1.130828</td>\n      <td>0.415703</td>\n      <td>727.91</td>\n      <td>1</td>\n    </tr>\n    <tr>\n      <th>97353</th>\n      <td>28242.0</td>\n      <td>-2.787248</td>\n      <td>-0.071340</td>\n      <td>-1.505288</td>\n      <td>3.361777</td>\n      <td>-3.357422</td>\n      <td>0.565835</td>\n      <td>0.303653</td>\n      <td>0.966914</td>\n      <td>-2.245882</td>\n      <td>...</td>\n      <td>0.882940</td>\n      <td>-0.246202</td>\n      <td>1.752227</td>\n      <td>0.219925</td>\n      <td>0.156282</td>\n      <td>-0.265894</td>\n      <td>0.220694</td>\n      <td>0.256077</td>\n      <td>730.86</td>\n      <td>1</td>\n    </tr>\n    <tr>\n      <th>209038</th>\n      <td>17838.0</td>\n      <td>-5.187878</td>\n      <td>6.967709</td>\n      <td>-13.510931</td>\n      <td>8.617895</td>\n      <td>-11.214422</td>\n      <td>0.672248</td>\n      <td>-9.462533</td>\n      <td>5.328704</td>\n      <td>-4.897006</td>\n      <td>...</td>\n      <td>2.086083</td>\n      <td>0.760190</td>\n      <td>0.716806</td>\n      <td>-0.646743</td>\n      <td>-1.617043</td>\n      <td>0.172347</td>\n      <td>0.626647</td>\n      <td>-0.169726</td>\n      <td>766.36</td>\n      <td>1</td>\n    </tr>\n    <tr>\n      <th>3972</th>\n      <td>39729.0</td>\n      <td>-0.964567</td>\n      <td>-1.643541</td>\n      <td>-0.187727</td>\n      <td>1.158253</td>\n      <td>-2.458336</td>\n      <td>0.852222</td>\n      <td>2.785163</td>\n      <td>-0.303609</td>\n      <td>0.940006</td>\n      <td>...</td>\n      <td>0.447180</td>\n      <td>0.536204</td>\n      <td>1.634061</td>\n      <td>0.203839</td>\n      <td>0.218749</td>\n      <td>-0.221886</td>\n      <td>-0.308555</td>\n      <td>-0.164500</td>\n      <td>776.83</td>\n      <td>1</td>\n    </tr>\n    <tr>\n      <th>179024</th>\n      <td>70536.0</td>\n      <td>-2.271755</td>\n      <td>-0.457655</td>\n      <td>-2.589055</td>\n      <td>2.230778</td>\n      <td>-4.278983</td>\n      <td>0.388610</td>\n      <td>0.102485</td>\n      <td>0.813128</td>\n      <td>-1.092921</td>\n      <td>...</td>\n      <td>1.096342</td>\n      <td>0.658399</td>\n      <td>1.711676</td>\n      <td>0.333540</td>\n      <td>0.538591</td>\n      <td>-0.193529</td>\n      <td>0.258194</td>\n      <td>0.247269</td>\n      <td>824.83</td>\n      <td>1</td>\n    </tr>\n    <tr>\n      <th>136141</th>\n      <td>87883.0</td>\n      <td>-1.360293</td>\n      <td>-0.458069</td>\n      <td>-0.700404</td>\n      <td>2.737229</td>\n      <td>-1.005106</td>\n      <td>2.891399</td>\n      <td>5.802537</td>\n      <td>-1.933197</td>\n      <td>-1.017717</td>\n      <td>...</td>\n      <td>-0.936990</td>\n      <td>-0.053812</td>\n      <td>0.580106</td>\n      <td>0.216927</td>\n      <td>0.151643</td>\n      <td>-0.332115</td>\n      <td>-0.469800</td>\n      <td>-1.495006</td>\n      <td>829.41</td>\n      <td>1</td>\n    </tr>\n    <tr>\n      <th>166670</th>\n      <td>134769.0</td>\n      <td>-0.967767</td>\n      <td>2.098019</td>\n      <td>-5.222929</td>\n      <td>6.514573</td>\n      <td>-4.187674</td>\n      <td>2.114178</td>\n      <td>0.948701</td>\n      <td>-2.448427</td>\n      <td>-3.203666</td>\n      <td>...</td>\n      <td>-0.843268</td>\n      <td>0.796739</td>\n      <td>1.314312</td>\n      <td>-0.352887</td>\n      <td>-1.770706</td>\n      <td>0.098133</td>\n      <td>0.956769</td>\n      <td>0.162777</td>\n      <td>925.31</td>\n      <td>1</td>\n    </tr>\n    <tr>\n      <th>189107</th>\n      <td>147501.0</td>\n      <td>-1.611877</td>\n      <td>-0.408410</td>\n      <td>-3.829762</td>\n      <td>6.249462</td>\n      <td>-3.360922</td>\n      <td>1.147964</td>\n      <td>1.858425</td>\n      <td>0.474858</td>\n      <td>-3.838399</td>\n      <td>...</td>\n      <td>1.245582</td>\n      <td>0.616383</td>\n      <td>2.251439</td>\n      <td>-0.066096</td>\n      <td>0.538710</td>\n      <td>0.541325</td>\n      <td>-0.136243</td>\n      <td>-0.009852</td>\n      <td>996.27</td>\n      <td>1</td>\n    </tr>\n    <tr>\n      <th>198810</th>\n      <td>154309.0</td>\n      <td>-0.082983</td>\n      <td>-3.935919</td>\n      <td>-2.616709</td>\n      <td>0.163310</td>\n      <td>-1.400952</td>\n      <td>-0.809419</td>\n      <td>1.501580</td>\n      <td>-0.471000</td>\n      <td>1.519743</td>\n      <td>...</td>\n      <td>0.702672</td>\n      <td>-0.182305</td>\n      <td>-0.921017</td>\n      <td>0.111635</td>\n      <td>-0.071622</td>\n      <td>-1.125881</td>\n      <td>-0.170947</td>\n      <td>0.126221</td>\n      <td>1096.99</td>\n      <td>1</td>\n    </tr>\n    <tr>\n      <th>14559</th>\n      <td>18088.0</td>\n      <td>-12.224021</td>\n      <td>3.854150</td>\n      <td>-12.466766</td>\n      <td>9.648311</td>\n      <td>-2.726961</td>\n      <td>-4.445610</td>\n      <td>-21.922811</td>\n      <td>0.320792</td>\n      <td>-4.433162</td>\n      <td>...</td>\n      <td>-1.159830</td>\n      <td>-1.504119</td>\n      <td>-19.254328</td>\n      <td>0.544867</td>\n      <td>-4.781606</td>\n      <td>-0.007772</td>\n      <td>3.052358</td>\n      <td>-0.775036</td>\n      <td>1218.89</td>\n      <td>1</td>\n    </tr>\n    <tr>\n      <th>157702</th>\n      <td>133184.0</td>\n      <td>-1.212682</td>\n      <td>-2.484824</td>\n      <td>-6.397186</td>\n      <td>3.670562</td>\n      <td>-0.863375</td>\n      <td>-1.855855</td>\n      <td>1.017732</td>\n      <td>-0.544704</td>\n      <td>-1.703378</td>\n      <td>...</td>\n      <td>1.396872</td>\n      <td>0.092073</td>\n      <td>-1.492882</td>\n      <td>-0.204227</td>\n      <td>0.532511</td>\n      <td>-0.293871</td>\n      <td>0.212663</td>\n      <td>0.431095</td>\n      <td>1335.00</td>\n      <td>1</td>\n    </tr>\n    <tr>\n      <th>216265</th>\n      <td>65385.0</td>\n      <td>-2.923827</td>\n      <td>1.524837</td>\n      <td>-3.018758</td>\n      <td>3.289291</td>\n      <td>-5.755542</td>\n      <td>2.218276</td>\n      <td>-0.509995</td>\n      <td>-3.569444</td>\n      <td>-1.016592</td>\n      <td>...</td>\n      <td>-0.511657</td>\n      <td>-0.122724</td>\n      <td>-4.288639</td>\n      <td>0.563797</td>\n      <td>-0.949451</td>\n      <td>-0.204532</td>\n      <td>1.510206</td>\n      <td>-0.324706</td>\n      <td>1354.25</td>\n      <td>1</td>\n    </tr>\n    <tr>\n      <th>53860</th>\n      <td>59011.0</td>\n      <td>-2.326922</td>\n      <td>-3.348439</td>\n      <td>-3.513408</td>\n      <td>3.175060</td>\n      <td>-2.815137</td>\n      <td>-0.203363</td>\n      <td>-0.892144</td>\n      <td>0.333226</td>\n      <td>-0.802005</td>\n      <td>...</td>\n      <td>1.226648</td>\n      <td>-0.695902</td>\n      <td>-1.478490</td>\n      <td>-0.061553</td>\n      <td>0.236155</td>\n      <td>0.531911</td>\n      <td>0.302324</td>\n      <td>0.536375</td>\n      <td>1389.56</td>\n      <td>1</td>\n    </tr>\n    <tr>\n      <th>168977</th>\n      <td>62467.0</td>\n      <td>-5.344665</td>\n      <td>-0.285760</td>\n      <td>-3.835616</td>\n      <td>5.337048</td>\n      <td>-7.609909</td>\n      <td>3.874668</td>\n      <td>1.289630</td>\n      <td>0.201742</td>\n      <td>-3.003532</td>\n      <td>...</td>\n      <td>0.276011</td>\n      <td>1.342045</td>\n      <td>-1.016579</td>\n      <td>-0.071361</td>\n      <td>-0.335869</td>\n      <td>0.441044</td>\n      <td>1.520613</td>\n      <td>-1.115937</td>\n      <td>1402.16</td>\n      <td>1</td>\n    </tr>\n    <tr>\n      <th>29760</th>\n      <td>154278.0</td>\n      <td>-1.600211</td>\n      <td>-3.488130</td>\n      <td>-6.459303</td>\n      <td>3.246816</td>\n      <td>-1.614608</td>\n      <td>-1.260375</td>\n      <td>0.288223</td>\n      <td>-0.048964</td>\n      <td>-0.734975</td>\n      <td>...</td>\n      <td>1.191175</td>\n      <td>-0.967141</td>\n      <td>-1.463421</td>\n      <td>-0.624231</td>\n      <td>-0.176462</td>\n      <td>0.400348</td>\n      <td>0.152947</td>\n      <td>0.477775</td>\n      <td>1504.93</td>\n      <td>1</td>\n    </tr>\n    <tr>\n      <th>172419</th>\n      <td>122608.0</td>\n      <td>-2.003460</td>\n      <td>-7.159042</td>\n      <td>-4.050976</td>\n      <td>1.309580</td>\n      <td>-2.058102</td>\n      <td>-0.098621</td>\n      <td>2.880083</td>\n      <td>-0.727484</td>\n      <td>1.460381</td>\n      <td>...</td>\n      <td>1.244287</td>\n      <td>-1.015232</td>\n      <td>-1.800985</td>\n      <td>0.657586</td>\n      <td>-0.435617</td>\n      <td>-0.894509</td>\n      <td>-0.397557</td>\n      <td>0.314262</td>\n      <td>2125.87</td>\n      <td>1</td>\n    </tr>\n  </tbody>\n</table>\n<p>34 rows × 31 columns</p>\n</div>"
     },
     "execution_count": 17,
     "metadata": {},
     "output_type": "execute_result"
    }
   ],
   "source": [
    "outlier_amount_df[outlier_amount_df['Class'] == 1].sort_values(\n",
    "    by='Amount'\n",
    ")\n",
    "# todo try removing outliers or applying tranformation(log, sqrt, bc) in amount during testing"
   ],
   "metadata": {
    "collapsed": false,
    "pycharm": {
     "name": "#%%\n"
    }
   }
  },
  {
   "cell_type": "markdown",
   "source": [
    "# Choosing model and sampling method\n"
   ],
   "metadata": {
    "collapsed": false,
    "pycharm": {
     "name": "#%% md\n"
    }
   }
  },
  {
   "cell_type": "code",
   "execution_count": 18,
   "outputs": [],
   "source": [
    "import time\n",
    "from lazypredict.Supervised import LazyClassifier\n",
    "from sklearn.linear_model import  LogisticRegression\n",
    "from sklearn.model_selection import train_test_split\n",
    "from sklearn.metrics import recall_score, precision_score, plot_confusion_matrix\n",
    "from sklearn.discriminant_analysis import QuadraticDiscriminantAnalysis\n",
    "from sklearn.naive_bayes import GaussianNB\n",
    "from sklearn.model_selection import RepeatedStratifiedKFold, cross_val_score"
   ],
   "metadata": {
    "collapsed": false,
    "pycharm": {
     "name": "#%%\n"
    }
   }
  },
  {
   "cell_type": "code",
   "execution_count": 19,
   "outputs": [],
   "source": [
    "label = 'Class'\n",
    "X = df.drop(label, 1)\n",
    "y = df[label]\n",
    "\n",
    "X_train, X_test, y_train, y_test = train_test_split(\n",
    "        X, y, test_size=0.2, random_state=42\n",
    ")"
   ],
   "metadata": {
    "collapsed": false,
    "pycharm": {
     "name": "#%%\n"
    }
   }
  },
  {
   "cell_type": "code",
   "execution_count": 20,
   "outputs": [],
   "source": [
    "# output already made in /data\n",
    "\n",
    "# clf = LazyClassifier()\n",
    "# models,predictions = clf.fit(X_train, X_test, y_train, y_test)\n",
    "# models"
   ],
   "metadata": {
    "collapsed": false,
    "pycharm": {
     "name": "#%%\n"
    }
   }
  },
  {
   "cell_type": "code",
   "execution_count": 21,
   "outputs": [],
   "source": [
    "# models.to_csv('data/lazy_cls.csv')"
   ],
   "metadata": {
    "collapsed": false,
    "pycharm": {
     "name": "#%%\n"
    }
   }
  },
  {
   "cell_type": "code",
   "execution_count": 25,
   "outputs": [
    {
     "name": "stdout",
     "output_type": "stream",
     "text": [
      "Mean ROC AUC: 0.9741837852279357\n"
     ]
    }
   ],
   "source": [
    "model = QuadraticDiscriminantAnalysis()\n",
    "\n",
    "cv = RepeatedStratifiedKFold(n_splits=10, n_repeats=3, random_state=42)\n",
    "\n",
    "scores = cross_val_score(model, X, y, scoring='roc_auc', cv=cv)\n",
    "\n",
    "print(f'Mean ROC AUC: {np.mean(scores)}' )"
   ],
   "metadata": {
    "collapsed": false,
    "pycharm": {
     "name": "#%%\n"
    }
   }
  },
  {
   "cell_type": "code",
   "execution_count": 26,
   "outputs": [
    {
     "data": {
      "text/plain": "<Figure size 432x288 with 2 Axes>",
      "image/png": "[encoded data removed]"
     },
     "metadata": {},
     "output_type": "display_data"
    }
   ],
   "source": [
    "model.fit(X_train, y_train)\n",
    "\n",
    "plot_confusion_matrix(model, X_test, y_test)\n",
    "plt.grid(False)"
   ],
   "metadata": {
    "collapsed": false,
    "pycharm": {
     "name": "#%%\n"
    }
   }
  },
  {
   "cell_type": "code",
   "execution_count": 27,
   "outputs": [
    {
     "name": "stdout",
     "output_type": "stream",
     "text": [
      "Recall: 0.8235294117647058\n",
      "Precision: 0.04890829694323144\n"
     ]
    }
   ],
   "source": [
    "y_pred = model.predict(X_test)\n",
    "\n",
    "print(f'Recall: {recall_score(y_test, y_pred)}')\n",
    "print(f'Precision: {precision_score(y_test, y_pred)}')\n"
   ],
   "metadata": {
    "collapsed": false,
    "pycharm": {
     "name": "#%%\n"
    }
   }
  },
  {
   "cell_type": "markdown",
   "source": [
    "Will use QuadraticDiscriminantAnalysis as baseline for testing resampling techniques.\n"
   ],
   "metadata": {
    "collapsed": false,
    "pycharm": {
     "name": "#%% md\n",
     "is_executing": true
    }
   },
   "outputs": [
    {
     "ename": "SyntaxError",
     "evalue": "invalid syntax (<ipython-input-28-e1985772360d>, line 1)",
     "output_type": "error",
     "traceback": [
      "\u001B[1;36m  File \u001B[1;32m\"<ipython-input-28-e1985772360d>\"\u001B[1;36m, line \u001B[1;32m1\u001B[0m\n\u001B[1;33m    Will use QuadraticDiscriminantAnalysis as baseline for testing resampling techniques.\u001B[0m\n\u001B[1;37m         ^\u001B[0m\n\u001B[1;31mSyntaxError\u001B[0m\u001B[1;31m:\u001B[0m invalid syntax\n"
     ]
    }
   ]
  },
  {
   "cell_type": "code",
   "execution_count": null,
   "outputs": [],
   "source": [
    "\n"
   ],
   "metadata": {
    "collapsed": false,
    "pycharm": {
     "name": "#%%\n"
    }
   }
  }
 ],
 "metadata": {
  "kernelspec": {
   "display_name": "Python 3",
   "language": "python",
   "name": "python3"
  },
  "language_info": {
   "codemirror_mode": {
    "name": "ipython",
    "version": 2
   },
   "file_extension": ".py",
   "mimetype": "text/x-python",
   "name": "python",
   "nbconvert_exporter": "python",
   "pygments_lexer": "ipython2",
   "version": "2.7.6"
  }
 },
 "nbformat": 4,
 "nbformat_minor": 0
}