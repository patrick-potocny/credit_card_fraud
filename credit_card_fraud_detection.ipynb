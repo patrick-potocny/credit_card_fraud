{
 "cells": [
  {
   "cell_type": "code",
   "execution_count": 1,
   "outputs": [],
   "source": [
    "import pandas as pd\n",
    "import numpy as np\n",
    "from sklearn.model_selection import StratifiedShuffleSplit\n",
    "from matplotlib import pyplot as plt\n",
    "import seaborn as sns\n",
    "from imblearn.under_sampling import NearMiss, RandomUnderSampler\n",
    "from imblearn.over_sampling import SMOTE, RandomOverSampler\n",
    "import usefull_funcs\n",
    "from sklearn.decomposition import PCA, TruncatedSVD\n",
    "from sklearn.cluster import KMeans\n",
    "from sklearn.manifold import TSNE\n",
    "import time\n",
    "import matplotlib.patches as mpatches\n",
    "from sklearn.model_selection import StratifiedShuffleSplit\n",
    "from sklearn.preprocessing import StandardScaler\n",
    "from scipy import stats\n",
    "plt.style.use('fivethirtyeight')\n",
    "sns.set(font_scale= 1)\n",
    "\n",
    "import warnings\n",
    "warnings.filterwarnings(\"ignore\")\n",
    "\n",
    "\n",
    "import time\n",
    "from lazypredict.Supervised import LazyClassifier\n",
    "from sklearn.linear_model import  LogisticRegression\n",
    "from sklearn.model_selection import train_test_split\n",
    "from sklearn.metrics import recall_score, precision_score, \\\n",
    "    plot_confusion_matrix, confusion_matrix, accuracy_score, roc_auc_score\n",
    "from sklearn.discriminant_analysis import QuadraticDiscriminantAnalysis\n",
    "from sklearn.naive_bayes import GaussianNB\n",
    "from sklearn.model_selection import RepeatedStratifiedKFold, \\\n",
    "    cross_val_score, StratifiedKFold, cross_validate\n",
    "from imblearn.combine import SMOTEENN, SMOTETomek\n",
    "from imblearn.pipeline import Pipeline"
   ],
   "metadata": {
    "collapsed": false,
    "pycharm": {
     "name": "#%%\n"
    }
   }
  },
  {
   "cell_type": "markdown",
   "source": [
    "# Functions"
   ],
   "metadata": {
    "collapsed": false
   }
  },
  {
   "cell_type": "code",
   "execution_count": 2,
   "outputs": [],
   "source": [
    "def initial_sss(df, label, test_size, out_file):\n",
    "\n",
    "    sss = StratifiedShuffleSplit(n_splits=1, test_size=test_size,\n",
    "                                 random_state=42)\n",
    "    for train_index, test_index in sss.split(df, df[label]):\n",
    "        print(\"TRAIN:\", train_index, \"TEST:\", test_index)\n",
    "        train_df = df.loc[train_index]\n",
    "        test_df = df.loc[test_index]\n",
    "\n",
    "    print(f'Train shape: {train_df.shape}')\n",
    "    print(f'Train shape: {test_df.shape}')\n",
    "\n",
    "    print(f'Train value counts: {train_df.Class.value_counts()}')\n",
    "    print(f'Test value counts: {test_df.Class.value_counts()}')\n",
    "\n",
    "    train_df.to_csv(f'{out_file}/train_df', index=False)\n",
    "    test_df.drop(label, 1).to_csv(f'{out_file}/test_df', index=False)\n",
    "    test_df[label].to_csv(f'{out_file}/test_df_y_true', index=False)\n",
    "\n",
    "\n",
    "def final_pipeline_test(X_sss, y_sss):\n",
    "    sss = StratifiedShuffleSplit(n_splits=1, test_size=0.2, random_state=42)\n",
    "    for train, test in sss.split(X_sss, y_sss):\n",
    "        X_train, y_train = X.loc[train], y.loc[train]\n",
    "        X_test, y_test = X.loc[test], y.loc[test]\n",
    "\n",
    "        steps = [('scaler', StandardScaler()),\n",
    "                 ('SMOTETomek', SMOTETomek()),\n",
    "                 ('QDA', QuadraticDiscriminantAnalysis())]\n",
    "        pipeline = Pipeline(steps=steps)\n",
    "        pipeline.fit(X_train, y_train)\n",
    "        y_pred = pipeline.predict(X_test)\n",
    "\n",
    "        print_metrcis(y_test, y_pred)\n",
    "\n",
    "\n",
    "def print_metrcis(y_test, y_pred):\n",
    "    print(f'Accuracy: {accuracy_score(y_test, y_pred)}')\n",
    "    print(f'ROC AUC: {roc_auc_score(y_test, y_pred)}')\n",
    "    print(f'Precision: {precision_score(y_test, y_pred)}')\n",
    "    print(f'Recall: {recall_score(y_test, y_pred)}')\n",
    "    print(f'Confusion Matrix: \\n {confusion_matrix(y_test, y_pred)}')\n",
    "\n",
    "\n",
    "# output already made in /data\n",
    "def lazy_cls(X, y, output_csv=False):\n",
    "    X_train, X_test, y_train, y_test = train_test_split(\n",
    "            X, y, test_size=0.2, random_state=42\n",
    "    )\n",
    "\n",
    "    clf = LazyClassifier()\n",
    "    models,predictions = clf.fit(X_train, X_test, y_train, y_test)\n",
    "\n",
    "    if output_csv:\n",
    "        models.to_csv('data/lazy_cls.csv')\n",
    "\n",
    "    print(models)\n",
    "\n",
    "\n",
    "def iqr_removal(df, threshold, col_list):\n",
    "\n",
    "    print(f'Before removal: \\n {df[\"Class\"].value_counts()}')\n",
    "    def outlier_treatment(datacolumn):\n",
    "        sorted(datacolumn)\n",
    "        q1, q3 = np.percentile(datacolumn , [25,75])\n",
    "        iqr = q3 - q1\n",
    "        lower_range = q1 - (threshold * iqr)\n",
    "        upper_range = q3 + (threshold * iqr)\n",
    "\n",
    "        return lower_range,upper_range\n",
    "\n",
    "    for col in col_list:\n",
    "        lower_range, upper_range = outlier_treatment(df[col])\n",
    "        outliers = df.loc[(df[col] > upper_range) | (df[col] < lower_range)]\n",
    "        outliers_indexes = outliers.index\n",
    "        df = df.drop(outliers_indexes)\n",
    "\n",
    "    print(f'After removal: \\n {df[\"Class\"].value_counts()}')\n",
    "\n",
    "    return df\n",
    "\n",
    "\n",
    "def balanced_heatmap(df):\n",
    "    label = 'Class'\n",
    "    X = df.drop(label, 1)\n",
    "    y = df[label]\n",
    "\n",
    "    X_resampled, y_resmapled = smote_tomek(X, y)\n",
    "\n",
    "    X_resampled['Class'] = y_resmapled\n",
    "    df_resampled = X_resampled\n",
    "    corr = df_resampled.corr()\n",
    "\n",
    "    sns.heatmap(corr)\n",
    "\n",
    "    return corr\n",
    "\n",
    "def get_most_corr_i(df_corr, corr_threshold):\n",
    "    df_corr = df_corr.abs()\n",
    "    filt = df_corr['Class'] >= corr_threshold\n",
    "    most_corr_i = df_corr[filt].drop('Class').index.tolist()\n",
    "\n",
    "    return most_corr_i\n",
    "\n",
    "\n",
    "def iqr_removal_effect(df, out_col, threshold):\n",
    "    amount_col = df[out_col]\n",
    "    print(df['Class'].value_counts())\n",
    "\n",
    "    lower_range, upper_range = usefull_funcs.outlier_treatment(amount_col,\n",
    "                                                               threshold)\n",
    "    print(f'Lower range: {lower_range}')\n",
    "    print(f'Upper range: {upper_range}')\n",
    "\n",
    "    print('Gets removed:')\n",
    "    outlier_amount_df = df[df[out_col] > upper_range]\n",
    "    print(outlier_amount_df['Class'].value_counts())\n"
   ],
   "metadata": {
    "collapsed": false,
    "pycharm": {
     "name": "#%%\n"
    }
   }
  },
  {
   "cell_type": "markdown",
   "source": [
    "# Preprocessing"
   ],
   "metadata": {
    "collapsed": false
   }
  },
  {
   "cell_type": "markdown",
   "source": [
    "### Resampling methods"
   ],
   "metadata": {
    "collapsed": false,
    "pycharm": {
     "name": "#%% md\n"
    }
   }
  },
  {
   "cell_type": "code",
   "execution_count": 3,
   "outputs": [],
   "source": [
    "def test_sampling(X, y, sampling_func):\n",
    "    sss = StratifiedShuffleSplit(n_splits=1, random_state=42, test_size=0.2)\n",
    "\n",
    "    print('-' * 30)\n",
    "    print(f'SAMPLING: {sampling_func.__name__}')\n",
    "\n",
    "    for train, test in sss.split(X, y):\n",
    "        X_train, y_train = X.loc[train], y.loc[train]\n",
    "        X_test, y_test = X.loc[test], y.loc[test]\n",
    "\n",
    "        sampling_start = time.time()\n",
    "        print(f'Value counts before resampling: \\n {y.value_counts()}')\n",
    "\n",
    "        X_resampled, y_resampled = sampling_func(X_train, y_train)\n",
    "\n",
    "        sampling_stop = time.time()\n",
    "        print(f'Sampling time: {sampling_stop - sampling_start} s')\n",
    "        print(f'Value counts after resampling: \\n {y_resampled.value_counts()}')\n",
    "\n",
    "\n",
    "        model = QuadraticDiscriminantAnalysis()\n",
    "        model.fit(X_resampled, y_resampled)\n",
    "        y_pred = model.predict(X_test)\n",
    "\n",
    "        print(f'Accuracy: {accuracy_score(y_test, y_pred)}')\n",
    "        print(f'ROC AUC: {roc_auc_score(y_test, y_pred)}')\n",
    "        print(f'Precision: {precision_score(y_test, y_pred)}')\n",
    "        print(f'Recall: {recall_score(y_test, y_pred)}')\n",
    "        print(f'Confusion Matrix: \\n {confusion_matrix(y_test, y_pred)}')\n",
    "\n",
    "    print('-' * 30)\n",
    "\n",
    "\n",
    "def visualize_clusters(X, y, resampling_func):\n",
    "    X_resampled, y_resampled = resampling_func(X, y)\n",
    "\n",
    "    pca = TruncatedSVD(n_components=2, random_state=42)\n",
    "    X_pca = pca.fit_transform(X_resampled, y_resampled)\n",
    "\n",
    "    sns.scatterplot(X_pca[: ,-2], X_pca[: , -1], hue=y_resampled)\n",
    "    plt.show()\n",
    "\n",
    "\n",
    "\n",
    "\n",
    "# SAMPLING -------------------------\n",
    "def rand_us(X, y):\n",
    "    minority_count = y.value_counts()[1]\n",
    "    rus = RandomUnderSampler(\n",
    "        random_state=42,\n",
    "        sampling_strategy = {0 : minority_count}\n",
    "    )\n",
    "\n",
    "    X_rand_undersampled, y_rand_undersampled = rus.fit_sample(X, y)\n",
    "\n",
    "    return X_rand_undersampled, y_rand_undersampled\n",
    "\n",
    "\n",
    "def near_miss_us(X, y):\n",
    "    nm = NearMiss(sampling_strategy='majority')\n",
    "    X_nm, y_nm = nm.fit_resample(X, y)\n",
    "\n",
    "    return X_nm, y_nm\n",
    "\n",
    "def smote_os(X, y):\n",
    "    smote = SMOTE(sampling_strategy='minority', random_state=43)\n",
    "    X_smote, y_smote = smote.fit_resample(X, y)\n",
    "\n",
    "    return  X_smote, y_smote\n",
    "\n",
    "\n",
    "def combined_us_os(X, y):\n",
    "\n",
    "    smote = SMOTE(sampling_strategy=0.1, random_state=43)\n",
    "    X_smote, y_smote = smote.fit_resample(X, y)\n",
    "\n",
    "    # majority_half = int(X.shape[0] / 2)\n",
    "    nm = NearMiss(sampling_strategy='majority')\n",
    "    X_nm, y_nm = nm.fit_resample(X_smote, y_smote)\n",
    "\n",
    "    return X_nm, y_nm\n",
    "\n",
    "\n",
    "def smote_tomek(X, y):\n",
    "    smote_t = SMOTETomek(sampling_strategy='minority', random_state=42)\n",
    "    X_smote, y_smote = smote_t.fit_resample(X, y)\n",
    "\n",
    "    return  X_smote, y_smote\n",
    "\n",
    "\n",
    "def smote_enn(X, y):\n",
    "    smote_e = SMOTEENN(sampling_strategy='minority', random_state=42)\n",
    "    X_smote, y_smote = smote_e.fit_resample(X, y)\n",
    "\n",
    "    return  X_smote, y_smote\n",
    "\n",
    "# SAMPLING -------------------------\n",
    "\n",
    "\n",
    "\n",
    "\n",
    "\n",
    "\n",
    "\n"
   ],
   "metadata": {
    "collapsed": false,
    "pycharm": {
     "name": "#%%\n"
    }
   }
  },
  {
   "cell_type": "markdown",
   "source": [
    "#Data colection\n",
    "Used just for the first time"
   ],
   "metadata": {
    "collapsed": false,
    "pycharm": {
     "name": "#%% md\n"
    }
   }
  },
  {
   "cell_type": "code",
   "execution_count": 4,
   "metadata": {
    "collapsed": true
   },
   "outputs": [],
   "source": [
    "# df = pd.read_csv('data/creditcard.csv')\n",
    "# df"
   ]
  },
  {
   "cell_type": "markdown",
   "source": [
    "# StratifiedShuffleSplit into train and test/y_true sets\n",
    "Used just for the first time"
   ],
   "metadata": {
    "collapsed": false,
    "pycharm": {
     "name": "#%% md\n"
    }
   }
  },
  {
   "cell_type": "code",
   "execution_count": 5,
   "outputs": [],
   "source": [
    "# initial_sss(df, 'Class', 0.2, 'data')"
   ],
   "metadata": {
    "collapsed": false,
    "pycharm": {
     "name": "#%%\n"
    }
   }
  },
  {
   "cell_type": "markdown",
   "source": [
    "# Missing data\n",
    "\n",
    "### Reading in trainting data"
   ],
   "metadata": {
    "collapsed": false,
    "pycharm": {
     "name": "#%% md\n",
     "is_executing": true
    }
   }
  },
  {
   "cell_type": "code",
   "execution_count": 6,
   "outputs": [
    {
     "data": {
      "text/plain": "       Time    V1    V2    V3    V4    V5    V6    V7    V8    V9  ...   V21  \\\n0 161919.00  1.95 -0.75 -1.36 -0.66  1.50  4.02 -1.48  1.14  1.41  ...  0.08   \n1 124477.00  2.04 -0.05 -3.06  0.25  2.94  3.30 -0.00  0.67  0.05  ...  0.04   \n2  41191.00 -0.99  0.60  0.71 -0.99 -0.83  1.96 -2.21 -5.04  0.00  ... -2.80   \n3 132624.00  2.29 -1.50 -0.75 -1.67 -1.39 -0.35 -1.43  0.01 -1.12  ... -0.14   \n4  59359.00 -0.45 -1.01  0.12 -3.45  0.72 -0.15  0.50 -0.11 -0.04  ... -0.24   \n\n    V22   V23   V24   V25   V26   V27   V28  Amount  Class  \n0  0.30  0.31  0.69 -0.35 -0.39  0.08 -0.03    7.32      0  \n1  0.23  0.04  0.71  0.51 -0.47  0.00 -0.07    2.99      0  \n2  0.11 -0.44 -0.93  0.83  0.91  0.04  0.19  175.10      0  \n3  0.08  0.21 -0.54 -0.28 -0.16  0.02 -0.06    6.10      0  \n4 -0.17 -0.01 -1.36 -0.29 -0.14 -0.03 -0.06   86.10      0  \n\n[5 rows x 31 columns]",
      "text/html": "<div>\n<style scoped>\n    .dataframe tbody tr th:only-of-type {\n        vertical-align: middle;\n    }\n\n    .dataframe tbody tr th {\n        vertical-align: top;\n    }\n\n    .dataframe thead th {\n        text-align: right;\n    }\n</style>\n<table border=\"1\" class=\"dataframe\">\n  <thead>\n    <tr style=\"text-align: right;\">\n      <th></th>\n      <th>Time</th>\n      <th>V1</th>\n      <th>V2</th>\n      <th>V3</th>\n      <th>V4</th>\n      <th>V5</th>\n      <th>V6</th>\n      <th>V7</th>\n      <th>V8</th>\n      <th>V9</th>\n      <th>...</th>\n      <th>V21</th>\n      <th>V22</th>\n      <th>V23</th>\n      <th>V24</th>\n      <th>V25</th>\n      <th>V26</th>\n      <th>V27</th>\n      <th>V28</th>\n      <th>Amount</th>\n      <th>Class</th>\n    </tr>\n  </thead>\n  <tbody>\n    <tr>\n      <th>0</th>\n      <td>161919.00</td>\n      <td>1.95</td>\n      <td>-0.75</td>\n      <td>-1.36</td>\n      <td>-0.66</td>\n      <td>1.50</td>\n      <td>4.02</td>\n      <td>-1.48</td>\n      <td>1.14</td>\n      <td>1.41</td>\n      <td>...</td>\n      <td>0.08</td>\n      <td>0.30</td>\n      <td>0.31</td>\n      <td>0.69</td>\n      <td>-0.35</td>\n      <td>-0.39</td>\n      <td>0.08</td>\n      <td>-0.03</td>\n      <td>7.32</td>\n      <td>0</td>\n    </tr>\n    <tr>\n      <th>1</th>\n      <td>124477.00</td>\n      <td>2.04</td>\n      <td>-0.05</td>\n      <td>-3.06</td>\n      <td>0.25</td>\n      <td>2.94</td>\n      <td>3.30</td>\n      <td>-0.00</td>\n      <td>0.67</td>\n      <td>0.05</td>\n      <td>...</td>\n      <td>0.04</td>\n      <td>0.23</td>\n      <td>0.04</td>\n      <td>0.71</td>\n      <td>0.51</td>\n      <td>-0.47</td>\n      <td>0.00</td>\n      <td>-0.07</td>\n      <td>2.99</td>\n      <td>0</td>\n    </tr>\n    <tr>\n      <th>2</th>\n      <td>41191.00</td>\n      <td>-0.99</td>\n      <td>0.60</td>\n      <td>0.71</td>\n      <td>-0.99</td>\n      <td>-0.83</td>\n      <td>1.96</td>\n      <td>-2.21</td>\n      <td>-5.04</td>\n      <td>0.00</td>\n      <td>...</td>\n      <td>-2.80</td>\n      <td>0.11</td>\n      <td>-0.44</td>\n      <td>-0.93</td>\n      <td>0.83</td>\n      <td>0.91</td>\n      <td>0.04</td>\n      <td>0.19</td>\n      <td>175.10</td>\n      <td>0</td>\n    </tr>\n    <tr>\n      <th>3</th>\n      <td>132624.00</td>\n      <td>2.29</td>\n      <td>-1.50</td>\n      <td>-0.75</td>\n      <td>-1.67</td>\n      <td>-1.39</td>\n      <td>-0.35</td>\n      <td>-1.43</td>\n      <td>0.01</td>\n      <td>-1.12</td>\n      <td>...</td>\n      <td>-0.14</td>\n      <td>0.08</td>\n      <td>0.21</td>\n      <td>-0.54</td>\n      <td>-0.28</td>\n      <td>-0.16</td>\n      <td>0.02</td>\n      <td>-0.06</td>\n      <td>6.10</td>\n      <td>0</td>\n    </tr>\n    <tr>\n      <th>4</th>\n      <td>59359.00</td>\n      <td>-0.45</td>\n      <td>-1.01</td>\n      <td>0.12</td>\n      <td>-3.45</td>\n      <td>0.72</td>\n      <td>-0.15</td>\n      <td>0.50</td>\n      <td>-0.11</td>\n      <td>-0.04</td>\n      <td>...</td>\n      <td>-0.24</td>\n      <td>-0.17</td>\n      <td>-0.01</td>\n      <td>-1.36</td>\n      <td>-0.29</td>\n      <td>-0.14</td>\n      <td>-0.03</td>\n      <td>-0.06</td>\n      <td>86.10</td>\n      <td>0</td>\n    </tr>\n  </tbody>\n</table>\n<p>5 rows × 31 columns</p>\n</div>"
     },
     "execution_count": 6,
     "metadata": {},
     "output_type": "execute_result"
    }
   ],
   "source": [
    "df = pd.read_csv('data/train_df')\n",
    "df.head()"
   ],
   "metadata": {
    "collapsed": false,
    "pycharm": {
     "name": "#%%\n"
    }
   }
  },
  {
   "cell_type": "code",
   "execution_count": 7,
   "outputs": [
    {
     "name": "stdout",
     "output_type": "stream",
     "text": [
      "<class 'pandas.core.frame.DataFrame'>\n",
      "RangeIndex: 227845 entries, 0 to 227844\n",
      "Data columns (total 31 columns):\n",
      " #   Column  Non-Null Count   Dtype  \n",
      "---  ------  --------------   -----  \n",
      " 0   Time    227845 non-null  float64\n",
      " 1   V1      227845 non-null  float64\n",
      " 2   V2      227845 non-null  float64\n",
      " 3   V3      227845 non-null  float64\n",
      " 4   V4      227845 non-null  float64\n",
      " 5   V5      227845 non-null  float64\n",
      " 6   V6      227845 non-null  float64\n",
      " 7   V7      227845 non-null  float64\n",
      " 8   V8      227845 non-null  float64\n",
      " 9   V9      227845 non-null  float64\n",
      " 10  V10     227845 non-null  float64\n",
      " 11  V11     227845 non-null  float64\n",
      " 12  V12     227845 non-null  float64\n",
      " 13  V13     227845 non-null  float64\n",
      " 14  V14     227845 non-null  float64\n",
      " 15  V15     227845 non-null  float64\n",
      " 16  V16     227845 non-null  float64\n",
      " 17  V17     227845 non-null  float64\n",
      " 18  V18     227845 non-null  float64\n",
      " 19  V19     227845 non-null  float64\n",
      " 20  V20     227845 non-null  float64\n",
      " 21  V21     227845 non-null  float64\n",
      " 22  V22     227845 non-null  float64\n",
      " 23  V23     227845 non-null  float64\n",
      " 24  V24     227845 non-null  float64\n",
      " 25  V25     227845 non-null  float64\n",
      " 26  V26     227845 non-null  float64\n",
      " 27  V27     227845 non-null  float64\n",
      " 28  V28     227845 non-null  float64\n",
      " 29  Amount  227845 non-null  float64\n",
      " 30  Class   227845 non-null  int64  \n",
      "dtypes: float64(30), int64(1)\n",
      "memory usage: 53.9 MB\n"
     ]
    }
   ],
   "source": [
    "df.info()"
   ],
   "metadata": {
    "collapsed": false,
    "pycharm": {
     "name": "#%%\n"
    }
   }
  },
  {
   "cell_type": "code",
   "source": [
    "missing_data = df.isnull().sum()\n",
    "print('Amount of missing data: ')\n",
    "print(missing_data.sum())"
   ],
   "metadata": {
    "collapsed": false,
    "pycharm": {
     "name": "#%%\n"
    }
   },
   "execution_count": 8,
   "outputs": [
    {
     "name": "stdout",
     "output_type": "stream",
     "text": [
      "Amount of missing data: \n",
      "0\n"
     ]
    }
   ]
  },
  {
   "cell_type": "markdown",
   "source": [
    "# EDA\n"
   ],
   "metadata": {
    "collapsed": false
   }
  },
  {
   "cell_type": "code",
   "execution_count": 9,
   "outputs": [
    {
     "data": {
      "text/plain": "           Time        V1        V2        V3        V4        V5        V6  \\\ncount 227845.00 227845.00 227845.00 227845.00 227845.00 227845.00 227845.00   \nmean   94885.09      0.00     -0.00     -0.00     -0.00      0.00     -0.00   \nstd    47488.42      1.96      1.65      1.52      1.42      1.38      1.33   \nmin        0.00    -56.41    -72.72    -48.33     -5.68   -113.74    -26.16   \n25%    54228.00     -0.92     -0.60     -0.89     -0.85     -0.69     -0.77   \n50%    84805.00      0.02      0.06      0.18     -0.02     -0.05     -0.27   \n75%   139364.00      1.32      0.80      1.03      0.74      0.61      0.40   \nmax   172792.00      2.45     22.06      9.38     16.88     34.80     73.30   \n\n             V7        V8        V9  ...       V21       V22       V23  \\\ncount 227845.00 227845.00 227845.00  ... 227845.00 227845.00 227845.00   \nmean       0.00     -0.00      0.00  ...      0.00      0.00      0.00   \nstd        1.24      1.19      1.10  ...      0.73      0.73      0.63   \nmin      -43.56    -73.22    -13.43  ...    -34.83    -10.93    -44.81   \n25%       -0.55     -0.21     -0.64  ...     -0.23     -0.54     -0.16   \n50%        0.04      0.02     -0.05  ...     -0.03      0.01     -0.01   \n75%        0.57      0.33      0.60  ...      0.19      0.53      0.15   \nmax      120.59     20.01     15.59  ...     27.20     10.50     22.53   \n\n            V24       V25       V26       V27       V28    Amount     Class  \ncount 227845.00 227845.00 227845.00 227845.00 227845.00 227845.00 227845.00  \nmean      -0.00     -0.00      0.00     -0.00      0.00     88.18      0.00  \nstd        0.61      0.52      0.48      0.40      0.33    250.72      0.04  \nmin       -2.84    -10.30     -2.60    -22.57    -15.43      0.00      0.00  \n25%       -0.35     -0.32     -0.33     -0.07     -0.05      5.64      0.00  \n50%        0.04      0.02     -0.05      0.00      0.01     22.00      0.00  \n75%        0.44      0.35      0.24      0.09      0.08     77.49      0.00  \nmax        4.58      6.07      3.52     31.61     33.85  25691.16      1.00  \n\n[8 rows x 31 columns]",
      "text/html": "<div>\n<style scoped>\n    .dataframe tbody tr th:only-of-type {\n        vertical-align: middle;\n    }\n\n    .dataframe tbody tr th {\n        vertical-align: top;\n    }\n\n    .dataframe thead th {\n        text-align: right;\n    }\n</style>\n<table border=\"1\" class=\"dataframe\">\n  <thead>\n    <tr style=\"text-align: right;\">\n      <th></th>\n      <th>Time</th>\n      <th>V1</th>\n      <th>V2</th>\n      <th>V3</th>\n      <th>V4</th>\n      <th>V5</th>\n      <th>V6</th>\n      <th>V7</th>\n      <th>V8</th>\n      <th>V9</th>\n      <th>...</th>\n      <th>V21</th>\n      <th>V22</th>\n      <th>V23</th>\n      <th>V24</th>\n      <th>V25</th>\n      <th>V26</th>\n      <th>V27</th>\n      <th>V28</th>\n      <th>Amount</th>\n      <th>Class</th>\n    </tr>\n  </thead>\n  <tbody>\n    <tr>\n      <th>count</th>\n      <td>227845.00</td>\n      <td>227845.00</td>\n      <td>227845.00</td>\n      <td>227845.00</td>\n      <td>227845.00</td>\n      <td>227845.00</td>\n      <td>227845.00</td>\n      <td>227845.00</td>\n      <td>227845.00</td>\n      <td>227845.00</td>\n      <td>...</td>\n      <td>227845.00</td>\n      <td>227845.00</td>\n      <td>227845.00</td>\n      <td>227845.00</td>\n      <td>227845.00</td>\n      <td>227845.00</td>\n      <td>227845.00</td>\n      <td>227845.00</td>\n      <td>227845.00</td>\n      <td>227845.00</td>\n    </tr>\n    <tr>\n      <th>mean</th>\n      <td>94885.09</td>\n      <td>0.00</td>\n      <td>-0.00</td>\n      <td>-0.00</td>\n      <td>-0.00</td>\n      <td>0.00</td>\n      <td>-0.00</td>\n      <td>0.00</td>\n      <td>-0.00</td>\n      <td>0.00</td>\n      <td>...</td>\n      <td>0.00</td>\n      <td>0.00</td>\n      <td>0.00</td>\n      <td>-0.00</td>\n      <td>-0.00</td>\n      <td>0.00</td>\n      <td>-0.00</td>\n      <td>0.00</td>\n      <td>88.18</td>\n      <td>0.00</td>\n    </tr>\n    <tr>\n      <th>std</th>\n      <td>47488.42</td>\n      <td>1.96</td>\n      <td>1.65</td>\n      <td>1.52</td>\n      <td>1.42</td>\n      <td>1.38</td>\n      <td>1.33</td>\n      <td>1.24</td>\n      <td>1.19</td>\n      <td>1.10</td>\n      <td>...</td>\n      <td>0.73</td>\n      <td>0.73</td>\n      <td>0.63</td>\n      <td>0.61</td>\n      <td>0.52</td>\n      <td>0.48</td>\n      <td>0.40</td>\n      <td>0.33</td>\n      <td>250.72</td>\n      <td>0.04</td>\n    </tr>\n    <tr>\n      <th>min</th>\n      <td>0.00</td>\n      <td>-56.41</td>\n      <td>-72.72</td>\n      <td>-48.33</td>\n      <td>-5.68</td>\n      <td>-113.74</td>\n      <td>-26.16</td>\n      <td>-43.56</td>\n      <td>-73.22</td>\n      <td>-13.43</td>\n      <td>...</td>\n      <td>-34.83</td>\n      <td>-10.93</td>\n      <td>-44.81</td>\n      <td>-2.84</td>\n      <td>-10.30</td>\n      <td>-2.60</td>\n      <td>-22.57</td>\n      <td>-15.43</td>\n      <td>0.00</td>\n      <td>0.00</td>\n    </tr>\n    <tr>\n      <th>25%</th>\n      <td>54228.00</td>\n      <td>-0.92</td>\n      <td>-0.60</td>\n      <td>-0.89</td>\n      <td>-0.85</td>\n      <td>-0.69</td>\n      <td>-0.77</td>\n      <td>-0.55</td>\n      <td>-0.21</td>\n      <td>-0.64</td>\n      <td>...</td>\n      <td>-0.23</td>\n      <td>-0.54</td>\n      <td>-0.16</td>\n      <td>-0.35</td>\n      <td>-0.32</td>\n      <td>-0.33</td>\n      <td>-0.07</td>\n      <td>-0.05</td>\n      <td>5.64</td>\n      <td>0.00</td>\n    </tr>\n    <tr>\n      <th>50%</th>\n      <td>84805.00</td>\n      <td>0.02</td>\n      <td>0.06</td>\n      <td>0.18</td>\n      <td>-0.02</td>\n      <td>-0.05</td>\n      <td>-0.27</td>\n      <td>0.04</td>\n      <td>0.02</td>\n      <td>-0.05</td>\n      <td>...</td>\n      <td>-0.03</td>\n      <td>0.01</td>\n      <td>-0.01</td>\n      <td>0.04</td>\n      <td>0.02</td>\n      <td>-0.05</td>\n      <td>0.00</td>\n      <td>0.01</td>\n      <td>22.00</td>\n      <td>0.00</td>\n    </tr>\n    <tr>\n      <th>75%</th>\n      <td>139364.00</td>\n      <td>1.32</td>\n      <td>0.80</td>\n      <td>1.03</td>\n      <td>0.74</td>\n      <td>0.61</td>\n      <td>0.40</td>\n      <td>0.57</td>\n      <td>0.33</td>\n      <td>0.60</td>\n      <td>...</td>\n      <td>0.19</td>\n      <td>0.53</td>\n      <td>0.15</td>\n      <td>0.44</td>\n      <td>0.35</td>\n      <td>0.24</td>\n      <td>0.09</td>\n      <td>0.08</td>\n      <td>77.49</td>\n      <td>0.00</td>\n    </tr>\n    <tr>\n      <th>max</th>\n      <td>172792.00</td>\n      <td>2.45</td>\n      <td>22.06</td>\n      <td>9.38</td>\n      <td>16.88</td>\n      <td>34.80</td>\n      <td>73.30</td>\n      <td>120.59</td>\n      <td>20.01</td>\n      <td>15.59</td>\n      <td>...</td>\n      <td>27.20</td>\n      <td>10.50</td>\n      <td>22.53</td>\n      <td>4.58</td>\n      <td>6.07</td>\n      <td>3.52</td>\n      <td>31.61</td>\n      <td>33.85</td>\n      <td>25691.16</td>\n      <td>1.00</td>\n    </tr>\n  </tbody>\n</table>\n<p>8 rows × 31 columns</p>\n</div>"
     },
     "execution_count": 9,
     "metadata": {},
     "output_type": "execute_result"
    }
   ],
   "source": [
    "df.describe()"
   ],
   "metadata": {
    "collapsed": false,
    "pycharm": {
     "name": "#%%\n"
    }
   }
  },
  {
   "cell_type": "code",
   "execution_count": 10,
   "outputs": [],
   "source": [
    "# usefull_funcs.hist_for_loop(df)"
   ],
   "metadata": {
    "collapsed": false,
    "pycharm": {
     "name": "#%%\n"
    }
   }
  },
  {
   "cell_type": "code",
   "execution_count": 11,
   "outputs": [],
   "source": [
    "# usefull_funcs.box_plot_for_loop(df)"
   ],
   "metadata": {
    "collapsed": false,
    "pycharm": {
     "name": "#%%\n"
    }
   }
  },
  {
   "cell_type": "markdown",
   "source": [
    "### Outlier treatment\n"
   ],
   "metadata": {
    "collapsed": false,
    "pycharm": {
     "name": "#%% md\n"
    }
   }
  },
  {
   "cell_type": "code",
   "execution_count": 12,
   "outputs": [],
   "source": [
    "# try removing outliers or applying transformation(log, sqrt, bc)\n",
    "# amount during testing\n",
    "# Didnt work, returns nans bcs of 0s and negative values"
   ],
   "metadata": {
    "collapsed": false,
    "pycharm": {
     "name": "#%%\n"
    }
   }
  },
  {
   "cell_type": "code",
   "execution_count": 13,
   "outputs": [],
   "source": [
    "# Didnt work, removed too much data even with multiplier of 3\n",
    "# instead of 1.5\n",
    "# print(df['Class'].value_counts())\n",
    "# iqr_removed = iqr_removal(df)\n",
    "# print(iqr_removed['Class'].value_counts())\n"
   ],
   "metadata": {
    "collapsed": false,
    "pycharm": {
     "name": "#%%\n"
    }
   }
  },
  {
   "cell_type": "code",
   "execution_count": 14,
   "outputs": [
    {
     "data": {
      "text/plain": "<Figure size 432x288 with 2 Axes>",
      "image/png": "[encoded data removed]"
     },
     "metadata": {},
     "output_type": "display_data"
    }
   ],
   "source": [
    "df_corr = balanced_heatmap(df)"
   ],
   "metadata": {
    "collapsed": false,
    "pycharm": {
     "name": "#%%\n"
    }
   }
  },
  {
   "cell_type": "code",
   "execution_count": 15,
   "outputs": [
    {
     "data": {
      "text/plain": "['V4', 'V9', 'V10', 'V11', 'V12', 'V14', 'V16']"
     },
     "execution_count": 15,
     "metadata": {},
     "output_type": "execute_result"
    }
   ],
   "source": [
    "most_corr_i = get_most_corr_i(df_corr, 0.6)\n",
    "most_corr_i"
   ],
   "metadata": {
    "collapsed": false,
    "pycharm": {
     "name": "#%%\n"
    }
   }
  },
  {
   "cell_type": "code",
   "execution_count": 16,
   "outputs": [
    {
     "name": "stdout",
     "output_type": "stream",
     "text": [
      "------------------------------\n",
      "Column: V4\n",
      "0    227451\n",
      "1       394\n",
      "Name: Class, dtype: int64\n",
      "Lower range: -5.61528726211039\n",
      "Upper range: 5.510456851601411\n",
      "Gets removed:\n",
      "0    234\n",
      "1    141\n",
      "Name: Class, dtype: int64\n",
      "------------------------------\n",
      "------------------------------\n",
      "Column: V9\n",
      "0    227451\n",
      "1       394\n",
      "Name: Class, dtype: int64\n",
      "Lower range: -4.355986978698251\n",
      "Upper range: 4.31393409700388\n",
      "Gets removed:\n",
      "0    757\n",
      "Name: Class, dtype: int64\n",
      "------------------------------\n",
      "------------------------------\n",
      "Column: V10\n",
      "0    227451\n",
      "1       394\n",
      "Name: Class, dtype: int64\n",
      "Lower range: -3.506026249991024\n",
      "Upper range: 3.4248405175366092\n",
      "Gets removed:\n",
      "0    2093\n",
      "1       1\n",
      "Name: Class, dtype: int64\n",
      "------------------------------\n",
      "------------------------------\n",
      "Column: V11\n",
      "0    227451\n",
      "1       394\n",
      "Name: Class, dtype: int64\n",
      "Lower range: -5.259747470123153\n",
      "Upper range: 5.2353607193777485\n",
      "Gets removed:\n",
      "1    100\n",
      "0     18\n",
      "Name: Class, dtype: int64\n",
      "------------------------------\n",
      "------------------------------\n",
      "Column: V12\n",
      "0    227451\n",
      "1       394\n",
      "Name: Class, dtype: int64\n",
      "Lower range: -3.4668148342188285\n",
      "Upper range: 3.6853695434628144\n",
      "Gets removed:\n",
      "0    50\n",
      "Name: Class, dtype: int64\n",
      "------------------------------\n",
      "------------------------------\n",
      "Column: V14\n",
      "0    227451\n",
      "1       394\n",
      "Name: Class, dtype: int64\n",
      "Lower range: -3.1795012308442825\n",
      "Upper range: 3.245742206120141\n",
      "Gets removed:\n",
      "0    384\n",
      "1      1\n",
      "Name: Class, dtype: int64\n",
      "------------------------------\n",
      "------------------------------\n",
      "Column: V16\n",
      "0    227451\n",
      "1       394\n",
      "Name: Class, dtype: int64\n",
      "Lower range: -3.4409886884353873\n",
      "Upper range: 3.493402531774925\n",
      "Gets removed:\n",
      "0    82\n",
      "Name: Class, dtype: int64\n",
      "------------------------------\n"
     ]
    }
   ],
   "source": [
    "for col in most_corr_i:\n",
    "    print('-' * 30)\n",
    "    print(f'Column: {col}')\n",
    "    iqr_removal_effect(df, col, 3)\n",
    "    print('-' * 30)"
   ],
   "metadata": {
    "collapsed": false,
    "pycharm": {
     "name": "#%%\n"
    }
   }
  },
  {
   "cell_type": "markdown",
   "source": [
    "# Choosing model and sampling method"
   ],
   "metadata": {
    "collapsed": false
   }
  },
  {
   "cell_type": "code",
   "execution_count": 17,
   "outputs": [],
   "source": [
    "label = 'Class'\n",
    "X = df.drop(label, 1)\n",
    "y = df[label]"
   ],
   "metadata": {
    "collapsed": false,
    "pycharm": {
     "name": "#%%\n"
    }
   }
  },
  {
   "cell_type": "code",
   "source": [
    "# lazy_cls(X, y)"
   ],
   "metadata": {
    "collapsed": false,
    "pycharm": {
     "name": "#%%\n"
    }
   },
   "outputs": [],
   "execution_count": 18
  },
  {
   "cell_type": "markdown",
   "source": [
    "Will use QuadraticDiscriminantAnalysis as baseline,\n",
    "for testing resampling techniques:\n",
    "Mean ROC AUC: 0.9741837852279357\n",
    "Recall: 0.8235294117647058\n",
    "Precision: 0.04890829694323144\n",
    "\n"
   ],
   "metadata": {
    "collapsed": false,
    "pycharm": {
     "name": "#%% md\n"
    }
   }
  },
  {
   "cell_type": "code",
   "execution_count": 19,
   "outputs": [],
   "source": [
    "# resampling_funcs = [rand_us, near_miss_us, smote_os, combined_us_os,\n",
    "#                     smote_tomek, smote_enn]\n",
    "\n",
    "# for func in resampling_funcs:\n",
    "#     test_sampling(X, y, func)"
   ],
   "metadata": {
    "collapsed": false,
    "pycharm": {
     "name": "#%%\n"
    }
   }
  },
  {
   "cell_type": "markdown",
   "source": [
    "Smote or combined smote are the best options for resampling data"
   ],
   "metadata": {
    "collapsed": false,
    "pycharm": {
     "name": "#%% md\n",
     "is_executing": true
    }
   },
   "outputs": [
    {
     "ename": "SyntaxError",
     "evalue": "invalid syntax (<ipython-input-42-89900d397ed2>, line 1)",
     "output_type": "error",
     "traceback": [
      "\u001B[1;36m  File \u001B[1;32m\"<ipython-input-42-89900d397ed2>\"\u001B[1;36m, line \u001B[1;32m1\u001B[0m\n\u001B[1;33m    Smote or combined smote are the best optionsod resampling data\u001B[0m\n\u001B[1;37m                      ^\u001B[0m\n\u001B[1;31mSyntaxError\u001B[0m\u001B[1;31m:\u001B[0m invalid syntax\n"
     ]
    }
   ]
  },
  {
   "cell_type": "code",
   "execution_count": 20,
   "outputs": [],
   "source": [
    "# visualize_clusters(X, y, smote_tomek)"
   ],
   "metadata": {
    "collapsed": false,
    "pycharm": {
     "name": "#%%\n"
    }
   }
  },
  {
   "cell_type": "code",
   "execution_count": 21,
   "outputs": [],
   "source": [
    "# final_pipeline_test(X, y)"
   ],
   "metadata": {
    "collapsed": false,
    "pycharm": {
     "name": "#%%\n"
    }
   }
  },
  {
   "cell_type": "markdown",
   "source": [
    "#### Scaled smotetomek QDA:\n",
    "\n",
    "Accuracy: 0.9745221532181966\n",
    "ROC AUC: 0.911421483647818\n",
    "Precision: 0.055098684210526314\n",
    "Recall: 0.8481012658227848\n",
    "Confusion Matrix:\n",
    "[[44341  1149]\n",
    "[   12    67]]\n",
    "\n"
   ],
   "metadata": {
    "collapsed": false,
    "pycharm": {
     "name": "#%% md\n"
    }
   }
  },
  {
   "cell_type": "code",
   "execution_count": 21,
   "outputs": [],
   "source": [],
   "metadata": {
    "collapsed": false,
    "pycharm": {
     "name": "#%%\n"
    }
   }
  },
  {
   "cell_type": "code",
   "execution_count": 22,
   "outputs": [],
   "source": [
    "# todo try thresholds = [4.5, 5.5]\n",
    "# Testing best iqr removal threshold\n",
    "# thresholds = [3, 5, 7, 9]\n",
    "# for threshold in thresholds:\n",
    "#     print(f'THRESHOLD: {threshold}')\n",
    "#     iqr_df = iqr_removal(df, threshold, most_corr_i)\n",
    "#\n",
    "#     label = 'Class'\n",
    "#     X_iqr = iqr_df.drop(label, 1)\n",
    "#     y_iqr = iqr_df[label]\n",
    "#\n",
    "#     final_pipeline_test(X_iqr, y_iqr)\n",
    "\n",
    "\n",
    "# RESULTS:\n",
    "# THRESHOLD: 3\n",
    "# Before removal:\n",
    "#  0    227451\n",
    "# 1       394\n",
    "# Name: Class, dtype: int64\n",
    "# After removal:\n",
    "#  0    222786\n",
    "# 1        59\n",
    "# Name: Class, dtype: int64\n",
    "# Accuracy: 0.9743543718728264\n",
    "# ROC AUC: 0.9141176896292531\n",
    "# Precision: 0.058284762697751874\n",
    "# Recall: 0.8536585365853658\n",
    "# Confusion Matrix:\n",
    "#  [[43356  1131]\n",
    "#  [   12    70]]\n",
    "# THRESHOLD: 5\n",
    "# Before removal:\n",
    "#  0    227451\n",
    "# 1       394\n",
    "# Name: Class, dtype: int64\n",
    "# After removal:\n",
    "#  0    226274\n",
    "# 1       114\n",
    "# Name: Class, dtype: int64\n",
    "# Accuracy: 0.9762798710190379\n",
    "# ROC AUC: 0.9326626890181994\n",
    "# Precision: 0.0633245382585752\n",
    "# Recall: 0.8888888888888888\n",
    "# Confusion Matrix:\n",
    "#  [[44132  1065]\n",
    "#  [    9    72]]\n",
    "# THRESHOLD: 7\n",
    "# Before removal:\n",
    "#  0    227451\n",
    "# 1       394\n",
    "# Name: Class, dtype: int64\n",
    "# After removal:\n",
    "#  0    226896\n",
    "# 1       181\n",
    "# Name: Class, dtype: int64\n",
    "# Accuracy: 0.9750748634842347\n",
    "# ROC AUC: 0.9209783935636647\n",
    "# Precision: 0.0651085141903172\n",
    "# Recall: 0.8666666666666667\n",
    "# Confusion Matrix:\n",
    "#  [[44206  1120]\n",
    "#  [   12    78]]\n",
    "# THRESHOLD: 9\n",
    "# Before removal:\n",
    "#  0    227451\n",
    "# 1       394\n",
    "# Name: Class, dtype: int64\n",
    "# After removal:\n",
    "#  0    227247\n",
    "# 1       252\n",
    "# Name: Class, dtype: int64\n",
    "# Accuracy: 0.9732967032967033\n",
    "# ROC AUC: 0.9060950121328035\n",
    "# Precision: 0.04136833731105807\n",
    "# Recall: 0.8387096774193549\n",
    "# Confusion Matrix:\n",
    "#  [[44233  1205]\n",
    "#  [   10    52]]\n",
    "\n",
    "# Threshold of 5 seems to give the best performance"
   ],
   "metadata": {
    "collapsed": false,
    "pycharm": {
     "name": "#%%\n"
    }
   }
  },
  {
   "cell_type": "code",
   "execution_count": 22,
   "outputs": [],
   "source": [],
   "metadata": {
    "collapsed": false,
    "pycharm": {
     "name": "#%%\n"
    }
   }
  }
 ],
 "metadata": {
  "kernelspec": {
   "display_name": "Python 3",
   "language": "python",
   "name": "python3"
  },
  "language_info": {
   "codemirror_mode": {
    "name": "ipython",
    "version": 2
   },
   "file_extension": ".py",
   "mimetype": "text/x-python",
   "name": "python",
   "nbconvert_exporter": "python",
   "pygments_lexer": "ipython2",
   "version": "2.7.6"
  }
 },
 "nbformat": 4,
 "nbformat_minor": 0
}