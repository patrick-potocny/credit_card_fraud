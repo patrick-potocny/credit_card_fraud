{
 "cells": [
  {
   "cell_type": "code",
   "execution_count": 9,
   "metadata": {
    "collapsed": true
   },
   "outputs": [],
   "source": [
    "import pandas as pd\n",
    "import numpy as np\n",
    "from imblearn.pipeline import Pipeline\n",
    "from imblearn.combine import SMOTETomek\n",
    "from sklearn.preprocessing import StandardScaler\n",
    "from sklearn.discriminant_analysis import QuadraticDiscriminantAnalysis\n",
    "from sklearn.metrics import recall_score, precision_score, \\\n",
    "    confusion_matrix, accuracy_score, roc_auc_score"
   ]
  },
  {
   "cell_type": "code",
   "execution_count": 10,
   "outputs": [],
   "source": [
    "# imblearn pipeline steps: remove outliers,\n",
    "# splitting dat into X, y,\n",
    "# scaler,\n",
    "# smote,\n",
    "# QDA\n",
    "\n",
    "# Validate\n"
   ],
   "metadata": {
    "collapsed": false,
    "pycharm": {
     "name": "#%%\n"
    }
   }
  },
  {
   "cell_type": "code",
   "execution_count": 11,
   "outputs": [],
   "source": [
    "def iqr_removal(df, threshold):\n",
    "    col_list = ['V4', 'V9', 'V10', 'V11', 'V12', 'V14', 'V16']\n",
    "\n",
    "    print(f'Before removal: \\n {df[\"Class\"].value_counts()}')\n",
    "    def outlier_treatment(datacolumn):\n",
    "        sorted(datacolumn)\n",
    "        q1, q3 = np.percentile(datacolumn , [25,75])\n",
    "        iqr = q3 - q1\n",
    "        lower_range = q1 - (threshold * iqr)\n",
    "        upper_range = q3 + (threshold * iqr)\n",
    "\n",
    "        return lower_range,upper_range\n",
    "\n",
    "    for col in col_list:\n",
    "        lower_range, upper_range = outlier_treatment(df[col])\n",
    "        outliers = df.loc[(df[col] > upper_range) | (df[col] < lower_range)]\n",
    "        outliers_indexes = outliers.index\n",
    "        df = df.drop(outliers_indexes)\n",
    "\n",
    "    print(f'After removal: \\n {df[\"Class\"].value_counts()}')\n",
    "\n",
    "    return df\n",
    "\n",
    "\n",
    "def print_metrcis(y_test, y_pred):\n",
    "    print(f'Accuracy: {accuracy_score(y_test, y_pred)}')\n",
    "    print(f'ROC AUC: {roc_auc_score(y_test, y_pred)}')\n",
    "    print(f'Precision: {precision_score(y_test, y_pred)}')\n",
    "    print(f'Recall: {recall_score(y_test, y_pred)}')\n",
    "    print(f'Confusion Matrix: \\n {confusion_matrix(y_test, y_pred)}')"
   ],
   "metadata": {
    "collapsed": false,
    "pycharm": {
     "name": "#%%\n"
    }
   }
  },
  {
   "cell_type": "code",
   "execution_count": 12,
   "outputs": [
    {
     "name": "stdout",
     "output_type": "stream",
     "text": [
      "Amount of missing data: \n",
      "0\n"
     ]
    }
   ],
   "source": [
    "df = pd.read_csv('data/train_df')\n",
    "\n",
    "\n",
    "missing_data = df.isnull().sum()\n",
    "print('Amount of missing data: ')\n",
    "print(missing_data.sum())"
   ],
   "metadata": {
    "collapsed": false,
    "pycharm": {
     "name": "#%%\n"
    }
   }
  },
  {
   "cell_type": "code",
   "execution_count": 13,
   "outputs": [
    {
     "name": "stdout",
     "output_type": "stream",
     "text": [
      "Before removal: \n",
      " 0    227451\n",
      "1       394\n",
      "Name: Class, dtype: int64\n",
      "After removal: \n",
      " 0    226274\n",
      "1       114\n",
      "Name: Class, dtype: int64\n"
     ]
    }
   ],
   "source": [
    "# couldnt be done in pipeline bcs pipeline modifies only\n",
    "# X_train and not y_train during fit\n",
    "df = iqr_removal(df, 5)"
   ],
   "metadata": {
    "collapsed": false,
    "pycharm": {
     "name": "#%%\n"
    }
   }
  },
  {
   "cell_type": "code",
   "execution_count": 14,
   "outputs": [],
   "source": [
    "label = 'Class'\n",
    "X_train = df.drop(label, 1)\n",
    "y_train = df[label]\n",
    "\n",
    "X_test = pd.read_csv('data/test_df')\n",
    "y_test = pd.read_csv('data/test_df_y_true')\n"
   ],
   "metadata": {
    "collapsed": false,
    "pycharm": {
     "name": "#%%\n"
    }
   }
  },
  {
   "cell_type": "code",
   "execution_count": 15,
   "outputs": [],
   "source": [
    "steps = [('scaler', StandardScaler()),\n",
    "         ('SMOTETomek', SMOTETomek()),\n",
    "         ('QDA', QuadraticDiscriminantAnalysis())]\n",
    "\n",
    "pipeline = Pipeline(steps=steps)\n"
   ],
   "metadata": {
    "collapsed": false,
    "pycharm": {
     "name": "#%%\n"
    }
   }
  },
  {
   "cell_type": "code",
   "execution_count": 16,
   "outputs": [
    {
     "name": "stdout",
     "output_type": "stream",
     "text": [
      "Accuracy: 0.9541097573821143\n",
      "ROC AUC: 0.9311761036716318\n",
      "Precision: 0.03303637713437268\n",
      "Recall: 0.9081632653061225\n",
      "Confusion Matrix: \n",
      " [[54259  2605]\n",
      " [    9    89]]\n"
     ]
    }
   ],
   "source": [
    "pipeline.fit(X_train, y_train)\n",
    "y_pred = pipeline.predict(X_test)\n",
    "\n",
    "print_metrcis(y_test, y_pred)"
   ],
   "metadata": {
    "collapsed": false,
    "pycharm": {
     "name": "#%%\n"
    }
   }
  },
  {
   "cell_type": "code",
   "execution_count": null,
   "outputs": [],
   "source": [
    "# Final validation results with iqr removal threshold 5:\n",
    "#\n",
    "# Accuracy: 0.9541097573821143\n",
    "# ROC AUC: 0.9311761036716318\n",
    "# Precision: 0.03303637713437268\n",
    "# Recall: 0.9081632653061225\n",
    "# Confusion Matrix:\n",
    "#  [[54259  2605]\n",
    "#  [    9    89]]"
   ],
   "metadata": {
    "collapsed": false,
    "pycharm": {
     "name": "#%%\n"
    }
   }
  }
 ],
 "metadata": {
  "kernelspec": {
   "display_name": "Python 3",
   "language": "python",
   "name": "python3"
  },
  "language_info": {
   "codemirror_mode": {
    "name": "ipython",
    "version": 2
   },
   "file_extension": ".py",
   "mimetype": "text/x-python",
   "name": "python",
   "nbconvert_exporter": "python",
   "pygments_lexer": "ipython2",
   "version": "2.7.6"
  }
 },
 "nbformat": 4,
 "nbformat_minor": 0
}